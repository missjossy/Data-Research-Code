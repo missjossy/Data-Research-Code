{
 "cells": [
  {
   "cell_type": "code",
   "execution_count": 1,
   "metadata": {},
   "outputs": [],
   "source": [
    "import pandas as pd\n",
    "import numpy as np\n",
    "import seaborn as sns\n",
    "import scipy\n",
    "import sklearn"
   ]
  },
  {
   "cell_type": "code",
   "execution_count": 2,
   "metadata": {},
   "outputs": [
    {
     "data": {
      "text/html": [
       "<div>\n",
       "<style scoped>\n",
       "    .dataframe tbody tr th:only-of-type {\n",
       "        vertical-align: middle;\n",
       "    }\n",
       "\n",
       "    .dataframe tbody tr th {\n",
       "        vertical-align: top;\n",
       "    }\n",
       "\n",
       "    .dataframe thead th {\n",
       "        text-align: right;\n",
       "    }\n",
       "</style>\n",
       "<table border=\"1\" class=\"dataframe\">\n",
       "  <thead>\n",
       "    <tr style=\"text-align: right;\">\n",
       "      <th></th>\n",
       "      <th>HASH</th>\n",
       "      <th>CLIENT_ID</th>\n",
       "      <th>SURVEY_WEEK</th>\n",
       "      <th>ADDRESS</th>\n",
       "      <th>EMAIL</th>\n",
       "      <th>POSITION</th>\n",
       "      <th>INDUSTRY</th>\n",
       "      <th>DISBURSED</th>\n",
       "      <th>DR1</th>\n",
       "      <th>DEFAULTED</th>\n",
       "      <th>PTFRAUD</th>\n",
       "    </tr>\n",
       "  </thead>\n",
       "  <tbody>\n",
       "    <tr>\n",
       "      <th>0</th>\n",
       "      <td>ebzz8</td>\n",
       "      <td>202256497</td>\n",
       "      <td>2024-07-08</td>\n",
       "      <td>pharmatrust host</td>\n",
       "      <td>qkueenkatherine@gmail.com</td>\n",
       "      <td>owner</td>\n",
       "      <td>Trade - Retail</td>\n",
       "      <td>1</td>\n",
       "      <td>0</td>\n",
       "      <td>0</td>\n",
       "      <td>0</td>\n",
       "    </tr>\n",
       "    <tr>\n",
       "      <th>1</th>\n",
       "      <td>ebzzg</td>\n",
       "      <td>554460332</td>\n",
       "      <td>2024-07-08</td>\n",
       "      <td>Nii Sentse</td>\n",
       "      <td>abdulbasitmohammed42@gmail.com</td>\n",
       "      <td>glass worker</td>\n",
       "      <td>Artisan</td>\n",
       "      <td>1</td>\n",
       "      <td>0</td>\n",
       "      <td>0</td>\n",
       "      <td>0</td>\n",
       "    </tr>\n",
       "    <tr>\n",
       "      <th>2</th>\n",
       "      <td>ecpbw</td>\n",
       "      <td>995382165</td>\n",
       "      <td>2024-07-08</td>\n",
       "      <td>Newyork Police station</td>\n",
       "      <td>cantona@gmai.cm</td>\n",
       "      <td>NaN</td>\n",
       "      <td>NaN</td>\n",
       "      <td>1</td>\n",
       "      <td>0</td>\n",
       "      <td>0</td>\n",
       "      <td>0</td>\n",
       "    </tr>\n",
       "    <tr>\n",
       "      <th>3</th>\n",
       "      <td>ebzxv</td>\n",
       "      <td>476871819</td>\n",
       "      <td>2024-07-08</td>\n",
       "      <td>Papase Justab</td>\n",
       "      <td>eraminanunyola@gmail.com</td>\n",
       "      <td>Beautician and cosmetics distributor</td>\n",
       "      <td>Beauty</td>\n",
       "      <td>1</td>\n",
       "      <td>0</td>\n",
       "      <td>0</td>\n",
       "      <td>0</td>\n",
       "    </tr>\n",
       "    <tr>\n",
       "      <th>4</th>\n",
       "      <td>ecrk1</td>\n",
       "      <td>689757138</td>\n",
       "      <td>2024-04-29</td>\n",
       "      <td>near akomade</td>\n",
       "      <td>NaN</td>\n",
       "      <td>Im a teacher</td>\n",
       "      <td>Education</td>\n",
       "      <td>1</td>\n",
       "      <td>1</td>\n",
       "      <td>0</td>\n",
       "      <td>1</td>\n",
       "    </tr>\n",
       "  </tbody>\n",
       "</table>\n",
       "</div>"
      ],
      "text/plain": [
       "    HASH  CLIENT_ID SURVEY_WEEK                 ADDRESS  \\\n",
       "0  ebzz8  202256497  2024-07-08        pharmatrust host   \n",
       "1  ebzzg  554460332  2024-07-08              Nii Sentse   \n",
       "2  ecpbw  995382165  2024-07-08  Newyork Police station   \n",
       "3  ebzxv  476871819  2024-07-08           Papase Justab   \n",
       "4  ecrk1  689757138  2024-04-29            near akomade   \n",
       "\n",
       "                            EMAIL                               POSITION  \\\n",
       "0       qkueenkatherine@gmail.com                                  owner   \n",
       "1  abdulbasitmohammed42@gmail.com                           glass worker   \n",
       "2                 cantona@gmai.cm                                    NaN   \n",
       "3        eraminanunyola@gmail.com  Beautician and cosmetics distributor    \n",
       "4                             NaN                          Im a teacher    \n",
       "\n",
       "         INDUSTRY  DISBURSED  DR1  DEFAULTED  PTFRAUD  \n",
       "0  Trade - Retail          1    0          0        0  \n",
       "1         Artisan          1    0          0        0  \n",
       "2             NaN          1    0          0        0  \n",
       "3          Beauty          1    0          0        0  \n",
       "4       Education          1    1          0        1  "
      ]
     },
     "execution_count": 2,
     "metadata": {},
     "output_type": "execute_result"
    }
   ],
   "source": [
    "data = pd.read_csv('data/survey-sim-agg (1).csv')\n",
    "data.head()"
   ]
  },
  {
   "cell_type": "code",
   "execution_count": 3,
   "metadata": {},
   "outputs": [
    {
     "name": "stdout",
     "output_type": "stream",
     "text": [
      "<class 'pandas.core.frame.DataFrame'>\n",
      "RangeIndex: 220615 entries, 0 to 220614\n",
      "Data columns (total 11 columns):\n",
      " #   Column       Non-Null Count   Dtype \n",
      "---  ------       --------------   ----- \n",
      " 0   HASH         214892 non-null  object\n",
      " 1   CLIENT_ID    220615 non-null  int64 \n",
      " 2   SURVEY_WEEK  220615 non-null  object\n",
      " 3   ADDRESS      220434 non-null  object\n",
      " 4   EMAIL        164070 non-null  object\n",
      " 5   POSITION     204794 non-null  object\n",
      " 6   INDUSTRY     204822 non-null  object\n",
      " 7   DISBURSED    220615 non-null  int64 \n",
      " 8   DR1          220615 non-null  int64 \n",
      " 9   DEFAULTED    220615 non-null  int64 \n",
      " 10  PTFRAUD      220615 non-null  int64 \n",
      "dtypes: int64(5), object(6)\n",
      "memory usage: 18.5+ MB\n"
     ]
    }
   ],
   "source": [
    "data.info()"
   ]
  },
  {
   "cell_type": "code",
   "execution_count": 4,
   "metadata": {},
   "outputs": [],
   "source": [
    "data['SURVEY_WEEK'] = pd.to_datetime(data['SURVEY_WEEK'])\n",
    "# data.head()"
   ]
  },
  {
   "cell_type": "code",
   "execution_count": 5,
   "metadata": {},
   "outputs": [
    {
     "data": {
      "text/html": [
       "<div>\n",
       "<style scoped>\n",
       "    .dataframe tbody tr th:only-of-type {\n",
       "        vertical-align: middle;\n",
       "    }\n",
       "\n",
       "    .dataframe tbody tr th {\n",
       "        vertical-align: top;\n",
       "    }\n",
       "\n",
       "    .dataframe thead th {\n",
       "        text-align: right;\n",
       "    }\n",
       "</style>\n",
       "<table border=\"1\" class=\"dataframe\">\n",
       "  <thead>\n",
       "    <tr style=\"text-align: right;\">\n",
       "      <th></th>\n",
       "      <th>HASH</th>\n",
       "      <th>CLIENT_ID</th>\n",
       "      <th>SURVEY_WEEK</th>\n",
       "      <th>ADDRESS</th>\n",
       "      <th>EMAIL</th>\n",
       "      <th>POSITION</th>\n",
       "      <th>INDUSTRY</th>\n",
       "      <th>DISBURSED</th>\n",
       "      <th>DR1</th>\n",
       "      <th>DEFAULTED</th>\n",
       "      <th>PTFRAUD</th>\n",
       "    </tr>\n",
       "  </thead>\n",
       "  <tbody>\n",
       "    <tr>\n",
       "      <th>0</th>\n",
       "      <td>ebzz8</td>\n",
       "      <td>202256497</td>\n",
       "      <td>2024-07-08</td>\n",
       "      <td>pharmatrust host</td>\n",
       "      <td>qkueenkatherine@gmail.com</td>\n",
       "      <td>owner</td>\n",
       "      <td>Trade - Retail</td>\n",
       "      <td>1</td>\n",
       "      <td>0</td>\n",
       "      <td>0</td>\n",
       "      <td>0</td>\n",
       "    </tr>\n",
       "    <tr>\n",
       "      <th>1</th>\n",
       "      <td>ebzzg</td>\n",
       "      <td>554460332</td>\n",
       "      <td>2024-07-08</td>\n",
       "      <td>Nii Sentse</td>\n",
       "      <td>abdulbasitmohammed42@gmail.com</td>\n",
       "      <td>glass worker</td>\n",
       "      <td>Artisan</td>\n",
       "      <td>1</td>\n",
       "      <td>0</td>\n",
       "      <td>0</td>\n",
       "      <td>0</td>\n",
       "    </tr>\n",
       "    <tr>\n",
       "      <th>2</th>\n",
       "      <td>ecpbw</td>\n",
       "      <td>995382165</td>\n",
       "      <td>2024-07-08</td>\n",
       "      <td>Newyork Police station</td>\n",
       "      <td>cantona@gmai.cm</td>\n",
       "      <td>NaN</td>\n",
       "      <td>NaN</td>\n",
       "      <td>1</td>\n",
       "      <td>0</td>\n",
       "      <td>0</td>\n",
       "      <td>0</td>\n",
       "    </tr>\n",
       "    <tr>\n",
       "      <th>3</th>\n",
       "      <td>ebzxv</td>\n",
       "      <td>476871819</td>\n",
       "      <td>2024-07-08</td>\n",
       "      <td>Papase Justab</td>\n",
       "      <td>eraminanunyola@gmail.com</td>\n",
       "      <td>Beautician and cosmetics distributor</td>\n",
       "      <td>Beauty</td>\n",
       "      <td>1</td>\n",
       "      <td>0</td>\n",
       "      <td>0</td>\n",
       "      <td>0</td>\n",
       "    </tr>\n",
       "    <tr>\n",
       "      <th>4</th>\n",
       "      <td>ecrk1</td>\n",
       "      <td>689757138</td>\n",
       "      <td>2024-04-29</td>\n",
       "      <td>near akomade</td>\n",
       "      <td>NaN</td>\n",
       "      <td>Im a teacher</td>\n",
       "      <td>Education</td>\n",
       "      <td>1</td>\n",
       "      <td>1</td>\n",
       "      <td>0</td>\n",
       "      <td>1</td>\n",
       "    </tr>\n",
       "  </tbody>\n",
       "</table>\n",
       "</div>"
      ],
      "text/plain": [
       "    HASH  CLIENT_ID SURVEY_WEEK                 ADDRESS  \\\n",
       "0  ebzz8  202256497  2024-07-08        pharmatrust host   \n",
       "1  ebzzg  554460332  2024-07-08              Nii Sentse   \n",
       "2  ecpbw  995382165  2024-07-08  Newyork Police station   \n",
       "3  ebzxv  476871819  2024-07-08           Papase Justab   \n",
       "4  ecrk1  689757138  2024-04-29            near akomade   \n",
       "\n",
       "                            EMAIL                               POSITION  \\\n",
       "0       qkueenkatherine@gmail.com                                  owner   \n",
       "1  abdulbasitmohammed42@gmail.com                           glass worker   \n",
       "2                 cantona@gmai.cm                                    NaN   \n",
       "3        eraminanunyola@gmail.com  Beautician and cosmetics distributor    \n",
       "4                             NaN                          Im a teacher    \n",
       "\n",
       "         INDUSTRY  DISBURSED  DR1  DEFAULTED  PTFRAUD  \n",
       "0  Trade - Retail          1    0          0        0  \n",
       "1         Artisan          1    0          0        0  \n",
       "2             NaN          1    0          0        0  \n",
       "3          Beauty          1    0          0        0  \n",
       "4       Education          1    1          0        1  "
      ]
     },
     "execution_count": 5,
     "metadata": {},
     "output_type": "execute_result"
    }
   ],
   "source": [
    "data.head()"
   ]
  },
  {
   "cell_type": "code",
   "execution_count": 6,
   "metadata": {},
   "outputs": [
    {
     "name": "stderr",
     "output_type": "stream",
     "text": [
      "/var/folders/br/rqk8kpt50q1_dkr0c2p_53lh0000gp/T/ipykernel_98728/1689020609.py:1: FutureWarning: The provided callable <built-in function sum> is currently using SeriesGroupBy.sum. In a future version of pandas, the provided callable will be used directly. To keep current behavior pass the string \"sum\" instead.\n",
      "  df = data.groupby(['HASH', 'SURVEY_WEEK', 'ADDRESS', 'EMAIL', 'INDUSTRY']).agg(\n"
     ]
    },
    {
     "data": {
      "text/html": [
       "<div>\n",
       "<style scoped>\n",
       "    .dataframe tbody tr th:only-of-type {\n",
       "        vertical-align: middle;\n",
       "    }\n",
       "\n",
       "    .dataframe tbody tr th {\n",
       "        vertical-align: top;\n",
       "    }\n",
       "\n",
       "    .dataframe thead th {\n",
       "        text-align: right;\n",
       "    }\n",
       "</style>\n",
       "<table border=\"1\" class=\"dataframe\">\n",
       "  <thead>\n",
       "    <tr style=\"text-align: right;\">\n",
       "      <th></th>\n",
       "      <th></th>\n",
       "      <th></th>\n",
       "      <th></th>\n",
       "      <th></th>\n",
       "      <th>nsurveys</th>\n",
       "      <th>nloans</th>\n",
       "      <th>ndefaults</th>\n",
       "      <th>npfraud</th>\n",
       "    </tr>\n",
       "    <tr>\n",
       "      <th>HASH</th>\n",
       "      <th>SURVEY_WEEK</th>\n",
       "      <th>ADDRESS</th>\n",
       "      <th>EMAIL</th>\n",
       "      <th>INDUSTRY</th>\n",
       "      <th></th>\n",
       "      <th></th>\n",
       "      <th></th>\n",
       "      <th></th>\n",
       "    </tr>\n",
       "  </thead>\n",
       "  <tbody>\n",
       "    <tr>\n",
       "      <th>6gg7r</th>\n",
       "      <th>2024-09-02</th>\n",
       "      <th>Abura Clinic</th>\n",
       "      <th>lolokoklu@yahoo.com</th>\n",
       "      <th>Legal</th>\n",
       "      <td>1</td>\n",
       "      <td>0</td>\n",
       "      <td>0</td>\n",
       "      <td>0</td>\n",
       "    </tr>\n",
       "    <tr>\n",
       "      <th>7ff38</th>\n",
       "      <th>2024-11-25</th>\n",
       "      <th>Apple st</th>\n",
       "      <th>samsonobour4@gmail.com</th>\n",
       "      <th>Education</th>\n",
       "      <td>1</td>\n",
       "      <td>0</td>\n",
       "      <td>0</td>\n",
       "      <td>0</td>\n",
       "    </tr>\n",
       "    <tr>\n",
       "      <th>7hfq5</th>\n",
       "      <th>2024-11-25</th>\n",
       "      <th>kpone katamanso</th>\n",
       "      <th>bulluchsandra794@gmail.com</th>\n",
       "      <th>Construction</th>\n",
       "      <td>1</td>\n",
       "      <td>0</td>\n",
       "      <td>0</td>\n",
       "      <td>0</td>\n",
       "    </tr>\n",
       "    <tr>\n",
       "      <th>7nj9g</th>\n",
       "      <th>2024-08-19</th>\n",
       "      <th>Dolphin street</th>\n",
       "      <th>agyarkobenard6@gmail.com</th>\n",
       "      <th>Trade - Retail</th>\n",
       "      <td>1</td>\n",
       "      <td>0</td>\n",
       "      <td>0</td>\n",
       "      <td>0</td>\n",
       "    </tr>\n",
       "    <tr>\n",
       "      <th>9mupb</th>\n",
       "      <th>2024-11-11</th>\n",
       "      <th>16 Projector Street, Malik Estate Teshie</th>\n",
       "      <th>gloverfashiony@gmail.com</th>\n",
       "      <th>Healthcare</th>\n",
       "      <td>1</td>\n",
       "      <td>0</td>\n",
       "      <td>0</td>\n",
       "      <td>0</td>\n",
       "    </tr>\n",
       "  </tbody>\n",
       "</table>\n",
       "</div>"
      ],
      "text/plain": [
       "                                                                                                      nsurveys  \\\n",
       "HASH  SURVEY_WEEK ADDRESS                                  EMAIL                      INDUSTRY                   \n",
       "6gg7r 2024-09-02  Abura Clinic                             lolokoklu@yahoo.com        Legal                  1   \n",
       "7ff38 2024-11-25  Apple st                                 samsonobour4@gmail.com     Education              1   \n",
       "7hfq5 2024-11-25  kpone katamanso                          bulluchsandra794@gmail.com Construction           1   \n",
       "7nj9g 2024-08-19  Dolphin street                           agyarkobenard6@gmail.com   Trade - Retail         1   \n",
       "9mupb 2024-11-11  16 Projector Street, Malik Estate Teshie gloverfashiony@gmail.com   Healthcare             1   \n",
       "\n",
       "                                                                                                      nloans  \\\n",
       "HASH  SURVEY_WEEK ADDRESS                                  EMAIL                      INDUSTRY                 \n",
       "6gg7r 2024-09-02  Abura Clinic                             lolokoklu@yahoo.com        Legal                0   \n",
       "7ff38 2024-11-25  Apple st                                 samsonobour4@gmail.com     Education            0   \n",
       "7hfq5 2024-11-25  kpone katamanso                          bulluchsandra794@gmail.com Construction         0   \n",
       "7nj9g 2024-08-19  Dolphin street                           agyarkobenard6@gmail.com   Trade - Retail       0   \n",
       "9mupb 2024-11-11  16 Projector Street, Malik Estate Teshie gloverfashiony@gmail.com   Healthcare           0   \n",
       "\n",
       "                                                                                                      ndefaults  \\\n",
       "HASH  SURVEY_WEEK ADDRESS                                  EMAIL                      INDUSTRY                    \n",
       "6gg7r 2024-09-02  Abura Clinic                             lolokoklu@yahoo.com        Legal                   0   \n",
       "7ff38 2024-11-25  Apple st                                 samsonobour4@gmail.com     Education               0   \n",
       "7hfq5 2024-11-25  kpone katamanso                          bulluchsandra794@gmail.com Construction            0   \n",
       "7nj9g 2024-08-19  Dolphin street                           agyarkobenard6@gmail.com   Trade - Retail          0   \n",
       "9mupb 2024-11-11  16 Projector Street, Malik Estate Teshie gloverfashiony@gmail.com   Healthcare              0   \n",
       "\n",
       "                                                                                                      npfraud  \n",
       "HASH  SURVEY_WEEK ADDRESS                                  EMAIL                      INDUSTRY                 \n",
       "6gg7r 2024-09-02  Abura Clinic                             lolokoklu@yahoo.com        Legal                 0  \n",
       "7ff38 2024-11-25  Apple st                                 samsonobour4@gmail.com     Education             0  \n",
       "7hfq5 2024-11-25  kpone katamanso                          bulluchsandra794@gmail.com Construction          0  \n",
       "7nj9g 2024-08-19  Dolphin street                           agyarkobenard6@gmail.com   Trade - Retail        0  \n",
       "9mupb 2024-11-11  16 Projector Street, Malik Estate Teshie gloverfashiony@gmail.com   Healthcare            0  "
      ]
     },
     "execution_count": 6,
     "metadata": {},
     "output_type": "execute_result"
    }
   ],
   "source": [
    "df = data.groupby(['HASH', 'SURVEY_WEEK', 'ADDRESS', 'EMAIL', 'INDUSTRY']).agg(\n",
    "    nsurveys = ('CLIENT_ID','count'),\n",
    "    nloans = ('DISBURSED', sum),\n",
    "    ndefaults = ('DR1', sum),\n",
    "    npfraud = ('PTFRAUD', sum)\n",
    ")\n",
    "df.head()"
   ]
  },
  {
   "cell_type": "markdown",
   "metadata": {},
   "source": [
    "## Address Duplication vs DR"
   ]
  },
  {
   "cell_type": "code",
   "execution_count": 7,
   "metadata": {},
   "outputs": [
    {
     "name": "stderr",
     "output_type": "stream",
     "text": [
      "/var/folders/br/rqk8kpt50q1_dkr0c2p_53lh0000gp/T/ipykernel_98728/3560324381.py:1: FutureWarning: The provided callable <built-in function sum> is currently using SeriesGroupBy.sum. In a future version of pandas, the provided callable will be used directly. To keep current behavior pass the string \"sum\" instead.\n",
      "  dup_address = data.groupby(['HASH', 'SURVEY_WEEK', 'ADDRESS']).agg(\n"
     ]
    },
    {
     "data": {
      "text/html": [
       "<div>\n",
       "<style scoped>\n",
       "    .dataframe tbody tr th:only-of-type {\n",
       "        vertical-align: middle;\n",
       "    }\n",
       "\n",
       "    .dataframe tbody tr th {\n",
       "        vertical-align: top;\n",
       "    }\n",
       "\n",
       "    .dataframe thead th {\n",
       "        text-align: right;\n",
       "    }\n",
       "</style>\n",
       "<table border=\"1\" class=\"dataframe\">\n",
       "  <thead>\n",
       "    <tr style=\"text-align: right;\">\n",
       "      <th></th>\n",
       "      <th></th>\n",
       "      <th></th>\n",
       "      <th>nsurveys</th>\n",
       "      <th>nloans</th>\n",
       "      <th>ndefaults</th>\n",
       "      <th>npfraud</th>\n",
       "    </tr>\n",
       "    <tr>\n",
       "      <th>HASH</th>\n",
       "      <th>SURVEY_WEEK</th>\n",
       "      <th>ADDRESS</th>\n",
       "      <th></th>\n",
       "      <th></th>\n",
       "      <th></th>\n",
       "      <th></th>\n",
       "    </tr>\n",
       "  </thead>\n",
       "  <tbody>\n",
       "    <tr>\n",
       "      <th>ebvuw</th>\n",
       "      <th>2024-06-17</th>\n",
       "      <th>Methodist church</th>\n",
       "      <td>2</td>\n",
       "      <td>1</td>\n",
       "      <td>1</td>\n",
       "      <td>1</td>\n",
       "    </tr>\n",
       "    <tr>\n",
       "      <th>ebvux</th>\n",
       "      <th>2024-05-13</th>\n",
       "      <th>Old Edobo Chip Zone</th>\n",
       "      <td>2</td>\n",
       "      <td>0</td>\n",
       "      <td>0</td>\n",
       "      <td>0</td>\n",
       "    </tr>\n",
       "    <tr>\n",
       "      <th rowspan=\"3\" valign=\"top\">ebyeg</th>\n",
       "      <th>2024-05-27</th>\n",
       "      <th>Agona fie</th>\n",
       "      <td>2</td>\n",
       "      <td>1</td>\n",
       "      <td>0</td>\n",
       "      <td>0</td>\n",
       "    </tr>\n",
       "    <tr>\n",
       "      <th>2024-07-08</th>\n",
       "      <th>Agona Nkwanta</th>\n",
       "      <td>2</td>\n",
       "      <td>1</td>\n",
       "      <td>0</td>\n",
       "      <td>0</td>\n",
       "    </tr>\n",
       "    <tr>\n",
       "      <th>2024-08-26</th>\n",
       "      <th>Agona Nkwanta</th>\n",
       "      <td>2</td>\n",
       "      <td>0</td>\n",
       "      <td>0</td>\n",
       "      <td>0</td>\n",
       "    </tr>\n",
       "  </tbody>\n",
       "</table>\n",
       "</div>"
      ],
      "text/plain": [
       "                                       nsurveys  nloans  ndefaults  npfraud\n",
       "HASH  SURVEY_WEEK ADDRESS                                                  \n",
       "ebvuw 2024-06-17  Methodist church            2       1          1        1\n",
       "ebvux 2024-05-13  Old Edobo Chip Zone         2       0          0        0\n",
       "ebyeg 2024-05-27  Agona fie                   2       1          0        0\n",
       "      2024-07-08  Agona Nkwanta               2       1          0        0\n",
       "      2024-08-26  Agona Nkwanta               2       0          0        0"
      ]
     },
     "execution_count": 7,
     "metadata": {},
     "output_type": "execute_result"
    }
   ],
   "source": [
    "dup_address = data.groupby(['HASH', 'SURVEY_WEEK', 'ADDRESS']).agg(\n",
    "    nsurveys = ('CLIENT_ID','count'),\n",
    "    nloans = ('DISBURSED', sum),\n",
    "    ndefaults = ('DR1', sum),\n",
    "    npfraud = ('PTFRAUD', sum)\n",
    ")\n",
    "dup_address = dup_address[dup_address['nsurveys'] >= 2]\n",
    "dup_address.head()"
   ]
  },
  {
   "cell_type": "code",
   "execution_count": 8,
   "metadata": {},
   "outputs": [
    {
     "data": {
      "text/plain": [
       "np.int64(2)"
      ]
     },
     "execution_count": 8,
     "metadata": {},
     "output_type": "execute_result"
    }
   ],
   "source": [
    "dup_address['nsurveys'].min()"
   ]
  },
  {
   "cell_type": "code",
   "execution_count": 9,
   "metadata": {},
   "outputs": [],
   "source": [
    "dup_address['dr'] = dup_address['ndefaults']/dup_address['nloans']\n",
    "dup_address['fr'] = dup_address['npfraud']/dup_address['nloans']"
   ]
  },
  {
   "cell_type": "code",
   "execution_count": 10,
   "metadata": {},
   "outputs": [],
   "source": [
    "import matplotlib.pyplot as plt"
   ]
  },
  {
   "cell_type": "markdown",
   "metadata": {},
   "source": [
    "Distribution of default rates  for duplicated addresses"
   ]
  },
  {
   "cell_type": "code",
   "execution_count": 11,
   "metadata": {},
   "outputs": [
    {
     "data": {
      "text/plain": [
       "[]"
      ]
     },
     "execution_count": 11,
     "metadata": {},
     "output_type": "execute_result"
    },
    {
     "data": {
      "image/png": "[encoded data removed]",
      "text/plain": [
       "<Figure size 640x480 with 1 Axes>"
      ]
     },
     "metadata": {},
     "output_type": "display_data"
    }
   ],
   "source": [
    "sns.boxplot(x= 'nsurveys', y= 'dr', data = dup_address)\n",
    "plt.title('DR Distribution by Address Duplication Count')\n",
    "plt.plot()"
   ]
  },
  {
   "cell_type": "code",
   "execution_count": 12,
   "metadata": {},
   "outputs": [
    {
     "data": {
      "text/html": [
       "<div>\n",
       "<style scoped>\n",
       "    .dataframe tbody tr th:only-of-type {\n",
       "        vertical-align: middle;\n",
       "    }\n",
       "\n",
       "    .dataframe tbody tr th {\n",
       "        vertical-align: top;\n",
       "    }\n",
       "\n",
       "    .dataframe thead th {\n",
       "        text-align: right;\n",
       "    }\n",
       "</style>\n",
       "<table border=\"1\" class=\"dataframe\">\n",
       "  <thead>\n",
       "    <tr style=\"text-align: right;\">\n",
       "      <th></th>\n",
       "      <th></th>\n",
       "      <th></th>\n",
       "      <th>nsurveys</th>\n",
       "      <th>nloans</th>\n",
       "      <th>ndefaults</th>\n",
       "      <th>npfraud</th>\n",
       "      <th>dr</th>\n",
       "      <th>fr</th>\n",
       "    </tr>\n",
       "    <tr>\n",
       "      <th>HASH</th>\n",
       "      <th>SURVEY_WEEK</th>\n",
       "      <th>ADDRESS</th>\n",
       "      <th></th>\n",
       "      <th></th>\n",
       "      <th></th>\n",
       "      <th></th>\n",
       "      <th></th>\n",
       "      <th></th>\n",
       "    </tr>\n",
       "  </thead>\n",
       "  <tbody>\n",
       "    <tr>\n",
       "      <th>ebysp</th>\n",
       "      <th>2024-11-11</th>\n",
       "      <th>Near main market</th>\n",
       "      <td>9</td>\n",
       "      <td>5</td>\n",
       "      <td>5</td>\n",
       "      <td>5</td>\n",
       "      <td>1.0</td>\n",
       "      <td>1.00</td>\n",
       "    </tr>\n",
       "    <tr>\n",
       "      <th>ebzj4</th>\n",
       "      <th>2024-06-17</th>\n",
       "      <th>University of Cape Coast</th>\n",
       "      <td>4</td>\n",
       "      <td>3</td>\n",
       "      <td>0</td>\n",
       "      <td>0</td>\n",
       "      <td>0.0</td>\n",
       "      <td>0.00</td>\n",
       "    </tr>\n",
       "    <tr>\n",
       "      <th>ebzj5</th>\n",
       "      <th>2024-08-19</th>\n",
       "      <th>Twifo Praso Road</th>\n",
       "      <td>9</td>\n",
       "      <td>4</td>\n",
       "      <td>2</td>\n",
       "      <td>1</td>\n",
       "      <td>0.5</td>\n",
       "      <td>0.25</td>\n",
       "    </tr>\n",
       "    <tr>\n",
       "      <th>ebzz9</th>\n",
       "      <th>2024-09-16</th>\n",
       "      <th>Mallam Junction</th>\n",
       "      <td>5</td>\n",
       "      <td>5</td>\n",
       "      <td>1</td>\n",
       "      <td>0</td>\n",
       "      <td>0.2</td>\n",
       "      <td>0.00</td>\n",
       "    </tr>\n",
       "    <tr>\n",
       "      <th>ebzzb</th>\n",
       "      <th>2024-11-04</th>\n",
       "      <th>Amist Hotel</th>\n",
       "      <td>10</td>\n",
       "      <td>8</td>\n",
       "      <td>8</td>\n",
       "      <td>6</td>\n",
       "      <td>1.0</td>\n",
       "      <td>0.75</td>\n",
       "    </tr>\n",
       "  </tbody>\n",
       "</table>\n",
       "</div>"
      ],
      "text/plain": [
       "                                            nsurveys  nloans  ndefaults  \\\n",
       "HASH  SURVEY_WEEK ADDRESS                                                 \n",
       "ebysp 2024-11-11  Near main market                 9       5          5   \n",
       "ebzj4 2024-06-17  University of Cape Coast         4       3          0   \n",
       "ebzj5 2024-08-19  Twifo Praso Road                 9       4          2   \n",
       "ebzz9 2024-09-16  Mallam Junction                  5       5          1   \n",
       "ebzzb 2024-11-04  Amist Hotel                     10       8          8   \n",
       "\n",
       "                                            npfraud   dr    fr  \n",
       "HASH  SURVEY_WEEK ADDRESS                                       \n",
       "ebysp 2024-11-11  Near main market                5  1.0  1.00  \n",
       "ebzj4 2024-06-17  University of Cape Coast        0  0.0  0.00  \n",
       "ebzj5 2024-08-19  Twifo Praso Road                1  0.5  0.25  \n",
       "ebzz9 2024-09-16  Mallam Junction                 0  0.2  0.00  \n",
       "ebzzb 2024-11-04  Amist Hotel                     6  1.0  0.75  "
      ]
     },
     "execution_count": 12,
     "metadata": {},
     "output_type": "execute_result"
    }
   ],
   "source": [
    "highdr = dup_address[(dup_address['nsurveys'] >= 4) & (dup_address['nloans'] >= 3)]\n",
    "highdr.head()"
   ]
  },
  {
   "cell_type": "code",
   "execution_count": 13,
   "metadata": {},
   "outputs": [
    {
     "data": {
      "text/plain": [
       "[]"
      ]
     },
     "execution_count": 13,
     "metadata": {},
     "output_type": "execute_result"
    },
    {
     "data": {
      "image/png": "[encoded data removed]",
      "text/plain": [
       "<Figure size 640x480 with 1 Axes>"
      ]
     },
     "metadata": {},
     "output_type": "display_data"
    }
   ],
   "source": [
    "sns.boxplot(x= 'nsurveys', y= 'dr', data = highdr)\n",
    "plt.plot()"
   ]
  },
  {
   "cell_type": "code",
   "execution_count": 14,
   "metadata": {},
   "outputs": [
    {
     "name": "stdout",
     "output_type": "stream",
     "text": [
      "<class 'pandas.core.frame.DataFrame'>\n",
      "MultiIndex: 29 entries, ('ebysp', Timestamp('2024-11-11 00:00:00'), 'Near main market') to ('s126f', Timestamp('2024-09-02 00:00:00'), 'Pentecost Church')\n",
      "Data columns (total 6 columns):\n",
      " #   Column     Non-Null Count  Dtype  \n",
      "---  ------     --------------  -----  \n",
      " 0   nsurveys   29 non-null     int64  \n",
      " 1   nloans     29 non-null     int64  \n",
      " 2   ndefaults  29 non-null     int64  \n",
      " 3   npfraud    29 non-null     int64  \n",
      " 4   dr         29 non-null     float64\n",
      " 5   fr         29 non-null     float64\n",
      "dtypes: float64(2), int64(4)\n",
      "memory usage: 1.4+ MB\n"
     ]
    }
   ],
   "source": [
    "highdr.info()"
   ]
  },
  {
   "cell_type": "markdown",
   "metadata": {},
   "source": [
    "Summary DR of DupSurveys"
   ]
  },
  {
   "cell_type": "code",
   "execution_count": 15,
   "metadata": {},
   "outputs": [
    {
     "name": "stderr",
     "output_type": "stream",
     "text": [
      "/var/folders/br/rqk8kpt50q1_dkr0c2p_53lh0000gp/T/ipykernel_98728/1556822430.py:1: FutureWarning: The provided callable <built-in function sum> is currently using SeriesGroupBy.sum. In a future version of pandas, the provided callable will be used directly. To keep current behavior pass the string \"sum\" instead.\n",
      "  summary = dup_address.groupby(['nsurveys']).agg(\n"
     ]
    },
    {
     "data": {
      "text/html": [
       "<div>\n",
       "<style scoped>\n",
       "    .dataframe tbody tr th:only-of-type {\n",
       "        vertical-align: middle;\n",
       "    }\n",
       "\n",
       "    .dataframe tbody tr th {\n",
       "        vertical-align: top;\n",
       "    }\n",
       "\n",
       "    .dataframe thead th {\n",
       "        text-align: right;\n",
       "    }\n",
       "</style>\n",
       "<table border=\"1\" class=\"dataframe\">\n",
       "  <thead>\n",
       "    <tr style=\"text-align: right;\">\n",
       "      <th></th>\n",
       "      <th>nloans</th>\n",
       "      <th>ndefaults</th>\n",
       "      <th>dr1</th>\n",
       "    </tr>\n",
       "    <tr>\n",
       "      <th>nsurveys</th>\n",
       "      <th></th>\n",
       "      <th></th>\n",
       "      <th></th>\n",
       "    </tr>\n",
       "  </thead>\n",
       "  <tbody>\n",
       "    <tr>\n",
       "      <th>2</th>\n",
       "      <td>2349</td>\n",
       "      <td>623</td>\n",
       "      <td>0.265219</td>\n",
       "    </tr>\n",
       "    <tr>\n",
       "      <th>3</th>\n",
       "      <td>299</td>\n",
       "      <td>93</td>\n",
       "      <td>0.311037</td>\n",
       "    </tr>\n",
       "    <tr>\n",
       "      <th>4</th>\n",
       "      <td>61</td>\n",
       "      <td>20</td>\n",
       "      <td>0.327869</td>\n",
       "    </tr>\n",
       "    <tr>\n",
       "      <th>5</th>\n",
       "      <td>41</td>\n",
       "      <td>20</td>\n",
       "      <td>0.487805</td>\n",
       "    </tr>\n",
       "    <tr>\n",
       "      <th>6</th>\n",
       "      <td>8</td>\n",
       "      <td>7</td>\n",
       "      <td>0.875000</td>\n",
       "    </tr>\n",
       "    <tr>\n",
       "      <th>7</th>\n",
       "      <td>13</td>\n",
       "      <td>7</td>\n",
       "      <td>0.538462</td>\n",
       "    </tr>\n",
       "    <tr>\n",
       "      <th>9</th>\n",
       "      <td>9</td>\n",
       "      <td>7</td>\n",
       "      <td>0.777778</td>\n",
       "    </tr>\n",
       "    <tr>\n",
       "      <th>10</th>\n",
       "      <td>12</td>\n",
       "      <td>9</td>\n",
       "      <td>0.750000</td>\n",
       "    </tr>\n",
       "  </tbody>\n",
       "</table>\n",
       "</div>"
      ],
      "text/plain": [
       "          nloans  ndefaults       dr1\n",
       "nsurveys                             \n",
       "2           2349        623  0.265219\n",
       "3            299         93  0.311037\n",
       "4             61         20  0.327869\n",
       "5             41         20  0.487805\n",
       "6              8          7  0.875000\n",
       "7             13          7  0.538462\n",
       "9              9          7  0.777778\n",
       "10            12          9  0.750000"
      ]
     },
     "execution_count": 15,
     "metadata": {},
     "output_type": "execute_result"
    }
   ],
   "source": [
    "summary = dup_address.groupby(['nsurveys']).agg(\n",
    "    nloans = ('nloans', sum),\n",
    "    ndefaults = ('ndefaults', sum)\n",
    ")\n",
    "summary['dr1'] = summary['ndefaults']/summary['nloans']\n",
    "summary.head(10)"
   ]
  },
  {
   "cell_type": "code",
   "execution_count": 16,
   "metadata": {},
   "outputs": [],
   "source": [
    "summary = summary.reset_index()"
   ]
  },
  {
   "cell_type": "code",
   "execution_count": 17,
   "metadata": {},
   "outputs": [
    {
     "data": {
      "text/html": [
       "<div>\n",
       "<style scoped>\n",
       "    .dataframe tbody tr th:only-of-type {\n",
       "        vertical-align: middle;\n",
       "    }\n",
       "\n",
       "    .dataframe tbody tr th {\n",
       "        vertical-align: top;\n",
       "    }\n",
       "\n",
       "    .dataframe thead th {\n",
       "        text-align: right;\n",
       "    }\n",
       "</style>\n",
       "<table border=\"1\" class=\"dataframe\">\n",
       "  <thead>\n",
       "    <tr style=\"text-align: right;\">\n",
       "      <th></th>\n",
       "      <th>nsurveys</th>\n",
       "      <th>nloans</th>\n",
       "      <th>ndefaults</th>\n",
       "      <th>dr1</th>\n",
       "    </tr>\n",
       "  </thead>\n",
       "  <tbody>\n",
       "    <tr>\n",
       "      <th>0</th>\n",
       "      <td>2</td>\n",
       "      <td>2349</td>\n",
       "      <td>623</td>\n",
       "      <td>0.265219</td>\n",
       "    </tr>\n",
       "    <tr>\n",
       "      <th>1</th>\n",
       "      <td>3</td>\n",
       "      <td>299</td>\n",
       "      <td>93</td>\n",
       "      <td>0.311037</td>\n",
       "    </tr>\n",
       "    <tr>\n",
       "      <th>2</th>\n",
       "      <td>4</td>\n",
       "      <td>61</td>\n",
       "      <td>20</td>\n",
       "      <td>0.327869</td>\n",
       "    </tr>\n",
       "    <tr>\n",
       "      <th>3</th>\n",
       "      <td>5</td>\n",
       "      <td>41</td>\n",
       "      <td>20</td>\n",
       "      <td>0.487805</td>\n",
       "    </tr>\n",
       "    <tr>\n",
       "      <th>4</th>\n",
       "      <td>6</td>\n",
       "      <td>8</td>\n",
       "      <td>7</td>\n",
       "      <td>0.875000</td>\n",
       "    </tr>\n",
       "    <tr>\n",
       "      <th>5</th>\n",
       "      <td>7</td>\n",
       "      <td>13</td>\n",
       "      <td>7</td>\n",
       "      <td>0.538462</td>\n",
       "    </tr>\n",
       "    <tr>\n",
       "      <th>6</th>\n",
       "      <td>9</td>\n",
       "      <td>9</td>\n",
       "      <td>7</td>\n",
       "      <td>0.777778</td>\n",
       "    </tr>\n",
       "    <tr>\n",
       "      <th>7</th>\n",
       "      <td>10</td>\n",
       "      <td>12</td>\n",
       "      <td>9</td>\n",
       "      <td>0.750000</td>\n",
       "    </tr>\n",
       "  </tbody>\n",
       "</table>\n",
       "</div>"
      ],
      "text/plain": [
       "   nsurveys  nloans  ndefaults       dr1\n",
       "0         2    2349        623  0.265219\n",
       "1         3     299         93  0.311037\n",
       "2         4      61         20  0.327869\n",
       "3         5      41         20  0.487805\n",
       "4         6       8          7  0.875000\n",
       "5         7      13          7  0.538462\n",
       "6         9       9          7  0.777778\n",
       "7        10      12          9  0.750000"
      ]
     },
     "execution_count": 17,
     "metadata": {},
     "output_type": "execute_result"
    }
   ],
   "source": [
    "summary.head(10)"
   ]
  },
  {
   "cell_type": "code",
   "execution_count": 18,
   "metadata": {},
   "outputs": [
    {
     "data": {
      "image/png": "[encoded data removed]",
      "text/plain": [
       "<Figure size 800x400 with 2 Axes>"
      ]
     },
     "metadata": {},
     "output_type": "display_data"
    }
   ],
   "source": [
    "fig, ax1 = plt.subplots(figsize=(8, 4))\n",
    "\n",
    "\n",
    "bars = ax1.bar(summary['nsurveys'], summary['nloans'], color='skyblue', label='Count')\n",
    "ax1.set_xlabel('Dup Add Per Week')\n",
    "ax1.set_ylabel('nLoans', color='blue')\n",
    "ax1.tick_params(axis='y', labelcolor='blue')\n",
    "\n",
    "ax1.set_xticks(summary['nsurveys'])\n",
    "ax1.set_xticklabels(summary['nsurveys'], rotation=90)\n",
    "# Create a second y-axis\n",
    "ax2 = ax1.twinx()\n",
    "ax2.plot(summary['nsurveys'],summary['dr1'], color='red', marker='o', linestyle='-', linewidth=2, label='Rate')\n",
    "ax2.set_ylabel('Default Rate', color='red')\n",
    "ax2.tick_params(axis='y', labelcolor='red')\n",
    "\n",
    "for bar in bars: \n",
    "    height = bar.get_height()\n",
    "    ax1.text(bar.get_x() + bar.get_width()/2, height, f'{height}', ha='center', va='bottom', fontsize=10, color='black')\n",
    "\n",
    "\n",
    "plt.title('Add Dup Per Week vs DR')\n",
    "plt.show()"
   ]
  },
  {
   "cell_type": "markdown",
   "metadata": {},
   "source": [
    "Duplicate Address + Email vs DR"
   ]
  },
  {
   "cell_type": "code",
   "execution_count": 19,
   "metadata": {},
   "outputs": [
    {
     "name": "stderr",
     "output_type": "stream",
     "text": [
      "/var/folders/br/rqk8kpt50q1_dkr0c2p_53lh0000gp/T/ipykernel_98728/168112091.py:1: FutureWarning: The provided callable <built-in function sum> is currently using SeriesGroupBy.sum. In a future version of pandas, the provided callable will be used directly. To keep current behavior pass the string \"sum\" instead.\n",
      "  dup_add_email = data.groupby(['HASH', 'SURVEY_WEEK', 'ADDRESS', 'EMAIL']).agg(\n"
     ]
    },
    {
     "data": {
      "text/html": [
       "<div>\n",
       "<style scoped>\n",
       "    .dataframe tbody tr th:only-of-type {\n",
       "        vertical-align: middle;\n",
       "    }\n",
       "\n",
       "    .dataframe tbody tr th {\n",
       "        vertical-align: top;\n",
       "    }\n",
       "\n",
       "    .dataframe thead th {\n",
       "        text-align: right;\n",
       "    }\n",
       "</style>\n",
       "<table border=\"1\" class=\"dataframe\">\n",
       "  <thead>\n",
       "    <tr style=\"text-align: right;\">\n",
       "      <th></th>\n",
       "      <th></th>\n",
       "      <th></th>\n",
       "      <th></th>\n",
       "      <th>nsurveys</th>\n",
       "      <th>nloans</th>\n",
       "      <th>ndefaults</th>\n",
       "      <th>npfraud</th>\n",
       "      <th>dr</th>\n",
       "      <th>fr</th>\n",
       "    </tr>\n",
       "    <tr>\n",
       "      <th>HASH</th>\n",
       "      <th>SURVEY_WEEK</th>\n",
       "      <th>ADDRESS</th>\n",
       "      <th>EMAIL</th>\n",
       "      <th></th>\n",
       "      <th></th>\n",
       "      <th></th>\n",
       "      <th></th>\n",
       "      <th></th>\n",
       "      <th></th>\n",
       "    </tr>\n",
       "  </thead>\n",
       "  <tbody>\n",
       "    <tr>\n",
       "      <th>ebyez</th>\n",
       "      <th>2024-09-23</th>\n",
       "      <th>Fox fm</th>\n",
       "      <th>michaelbamfo2017@gmail.com</th>\n",
       "      <td>2</td>\n",
       "      <td>2</td>\n",
       "      <td>0</td>\n",
       "      <td>0</td>\n",
       "      <td>0.0</td>\n",
       "      <td>0.0</td>\n",
       "    </tr>\n",
       "    <tr>\n",
       "      <th rowspan=\"3\" valign=\"top\">ebysp</th>\n",
       "      <th>2024-07-29</th>\n",
       "      <th>Alfalfa street</th>\n",
       "      <th>Oliviamanu78@gmail.com</th>\n",
       "      <td>2</td>\n",
       "      <td>2</td>\n",
       "      <td>0</td>\n",
       "      <td>0</td>\n",
       "      <td>0.0</td>\n",
       "      <td>0.0</td>\n",
       "    </tr>\n",
       "    <tr>\n",
       "      <th>2024-10-28</th>\n",
       "      <th>Near main market</th>\n",
       "      <th>mandyhollands98@gmail.com</th>\n",
       "      <td>2</td>\n",
       "      <td>2</td>\n",
       "      <td>2</td>\n",
       "      <td>2</td>\n",
       "      <td>1.0</td>\n",
       "      <td>1.0</td>\n",
       "    </tr>\n",
       "    <tr>\n",
       "      <th>2024-11-11</th>\n",
       "      <th>Near main market</th>\n",
       "      <th>francisobeng92@gmail.com</th>\n",
       "      <td>2</td>\n",
       "      <td>0</td>\n",
       "      <td>0</td>\n",
       "      <td>0</td>\n",
       "      <td>NaN</td>\n",
       "      <td>NaN</td>\n",
       "    </tr>\n",
       "    <tr>\n",
       "      <th>ebyu1</th>\n",
       "      <th>2024-05-20</th>\n",
       "      <th>Lower Pra rural bank</th>\n",
       "      <th>danieleshungbc20@gmail.com</th>\n",
       "      <td>2</td>\n",
       "      <td>1</td>\n",
       "      <td>1</td>\n",
       "      <td>1</td>\n",
       "      <td>1.0</td>\n",
       "      <td>1.0</td>\n",
       "    </tr>\n",
       "  </tbody>\n",
       "</table>\n",
       "</div>"
      ],
      "text/plain": [
       "                                                                   nsurveys  \\\n",
       "HASH  SURVEY_WEEK ADDRESS              EMAIL                                  \n",
       "ebyez 2024-09-23  Fox fm               michaelbamfo2017@gmail.com         2   \n",
       "ebysp 2024-07-29  Alfalfa street       Oliviamanu78@gmail.com             2   \n",
       "      2024-10-28  Near main market     mandyhollands98@gmail.com          2   \n",
       "      2024-11-11  Near main market     francisobeng92@gmail.com           2   \n",
       "ebyu1 2024-05-20  Lower Pra rural bank danieleshungbc20@gmail.com         2   \n",
       "\n",
       "                                                                   nloans  \\\n",
       "HASH  SURVEY_WEEK ADDRESS              EMAIL                                \n",
       "ebyez 2024-09-23  Fox fm               michaelbamfo2017@gmail.com       2   \n",
       "ebysp 2024-07-29  Alfalfa street       Oliviamanu78@gmail.com           2   \n",
       "      2024-10-28  Near main market     mandyhollands98@gmail.com        2   \n",
       "      2024-11-11  Near main market     francisobeng92@gmail.com         0   \n",
       "ebyu1 2024-05-20  Lower Pra rural bank danieleshungbc20@gmail.com       1   \n",
       "\n",
       "                                                                   ndefaults  \\\n",
       "HASH  SURVEY_WEEK ADDRESS              EMAIL                                   \n",
       "ebyez 2024-09-23  Fox fm               michaelbamfo2017@gmail.com          0   \n",
       "ebysp 2024-07-29  Alfalfa street       Oliviamanu78@gmail.com              0   \n",
       "      2024-10-28  Near main market     mandyhollands98@gmail.com           2   \n",
       "      2024-11-11  Near main market     francisobeng92@gmail.com            0   \n",
       "ebyu1 2024-05-20  Lower Pra rural bank danieleshungbc20@gmail.com          1   \n",
       "\n",
       "                                                                   npfraud  \\\n",
       "HASH  SURVEY_WEEK ADDRESS              EMAIL                                 \n",
       "ebyez 2024-09-23  Fox fm               michaelbamfo2017@gmail.com        0   \n",
       "ebysp 2024-07-29  Alfalfa street       Oliviamanu78@gmail.com            0   \n",
       "      2024-10-28  Near main market     mandyhollands98@gmail.com         2   \n",
       "      2024-11-11  Near main market     francisobeng92@gmail.com          0   \n",
       "ebyu1 2024-05-20  Lower Pra rural bank danieleshungbc20@gmail.com        1   \n",
       "\n",
       "                                                                    dr   fr  \n",
       "HASH  SURVEY_WEEK ADDRESS              EMAIL                                 \n",
       "ebyez 2024-09-23  Fox fm               michaelbamfo2017@gmail.com  0.0  0.0  \n",
       "ebysp 2024-07-29  Alfalfa street       Oliviamanu78@gmail.com      0.0  0.0  \n",
       "      2024-10-28  Near main market     mandyhollands98@gmail.com   1.0  1.0  \n",
       "      2024-11-11  Near main market     francisobeng92@gmail.com    NaN  NaN  \n",
       "ebyu1 2024-05-20  Lower Pra rural bank danieleshungbc20@gmail.com  1.0  1.0  "
      ]
     },
     "execution_count": 19,
     "metadata": {},
     "output_type": "execute_result"
    }
   ],
   "source": [
    "dup_add_email = data.groupby(['HASH', 'SURVEY_WEEK', 'ADDRESS', 'EMAIL']).agg(\n",
    "    nsurveys = ('CLIENT_ID','count'),\n",
    "    nloans = ('DISBURSED', sum),\n",
    "    ndefaults = ('DR1', sum),\n",
    "    npfraud = ('PTFRAUD', sum)\n",
    ")\n",
    "dup_add_email['dr'] = dup_add_email['ndefaults']/dup_add_email['nloans']\n",
    "dup_add_email['fr'] = dup_add_email['npfraud']/dup_add_email['nloans']\n",
    "dup_add_email = dup_add_email[dup_add_email['nsurveys'] >= 2]\n",
    "dup_add_email.head()"
   ]
  },
  {
   "cell_type": "code",
   "execution_count": 20,
   "metadata": {},
   "outputs": [
    {
     "data": {
      "text/plain": [
       "[]"
      ]
     },
     "execution_count": 20,
     "metadata": {},
     "output_type": "execute_result"
    },
    {
     "data": {
      "image/png": "[encoded data removed]",
      "text/plain": [
       "<Figure size 640x480 with 1 Axes>"
      ]
     },
     "metadata": {},
     "output_type": "display_data"
    }
   ],
   "source": [
    "sns.boxplot(x= 'nsurveys', y= 'dr', data = dup_add_email)\n",
    "plt.title('DR Distribution by Address+Email Duplication Count')\n",
    "plt.plot()"
   ]
  },
  {
   "cell_type": "code",
   "execution_count": 21,
   "metadata": {},
   "outputs": [
    {
     "name": "stderr",
     "output_type": "stream",
     "text": [
      "/var/folders/br/rqk8kpt50q1_dkr0c2p_53lh0000gp/T/ipykernel_98728/1006304842.py:1: FutureWarning: The provided callable <built-in function sum> is currently using SeriesGroupBy.sum. In a future version of pandas, the provided callable will be used directly. To keep current behavior pass the string \"sum\" instead.\n",
      "  dup_add_ind = data.groupby(['HASH', 'SURVEY_WEEK', 'ADDRESS', 'INDUSTRY']).agg(\n"
     ]
    },
    {
     "data": {
      "text/plain": [
       "[]"
      ]
     },
     "execution_count": 21,
     "metadata": {},
     "output_type": "execute_result"
    },
    {
     "data": {
      "image/png": "[encoded data removed]",
      "text/plain": [
       "<Figure size 640x480 with 1 Axes>"
      ]
     },
     "metadata": {},
     "output_type": "display_data"
    }
   ],
   "source": [
    "dup_add_ind = data.groupby(['HASH', 'SURVEY_WEEK', 'ADDRESS', 'INDUSTRY']).agg(\n",
    "    nsurveys = ('CLIENT_ID','count'),\n",
    "    nloans = ('DISBURSED', sum),\n",
    "    ndefaults = ('DR1', sum),\n",
    "    npfraud = ('PTFRAUD', sum)\n",
    ")\n",
    "dup_add_ind['dr'] = dup_add_ind['ndefaults']/dup_add_ind['nloans']\n",
    "dup_add_ind['fr'] = dup_add_ind['npfraud']/dup_add_ind['nloans']\n",
    "dup_add_ind = dup_add_ind[dup_add_ind['nsurveys'] >= 2]\n",
    "sns.boxplot(x= 'nsurveys', y= 'dr', data = dup_add_ind)\n",
    "plt.title('DR Distribution by Address+Industry Duplication Count')\n",
    "plt.plot()"
   ]
  },
  {
   "cell_type": "code",
   "execution_count": 22,
   "metadata": {},
   "outputs": [
    {
     "name": "stderr",
     "output_type": "stream",
     "text": [
      "/var/folders/br/rqk8kpt50q1_dkr0c2p_53lh0000gp/T/ipykernel_98728/648949601.py:1: FutureWarning: The provided callable <built-in function sum> is currently using SeriesGroupBy.sum. In a future version of pandas, the provided callable will be used directly. To keep current behavior pass the string \"sum\" instead.\n",
      "  dup_ind = data.groupby(['HASH', 'SURVEY_WEEK', 'INDUSTRY']).agg(\n"
     ]
    },
    {
     "data": {
      "text/plain": [
       "[]"
      ]
     },
     "execution_count": 22,
     "metadata": {},
     "output_type": "execute_result"
    },
    {
     "data": {
      "image/png": "[encoded data removed]",
      "text/plain": [
       "<Figure size 640x480 with 1 Axes>"
      ]
     },
     "metadata": {},
     "output_type": "display_data"
    }
   ],
   "source": [
    "dup_ind = data.groupby(['HASH', 'SURVEY_WEEK', 'INDUSTRY']).agg(\n",
    "    nsurveys = ('CLIENT_ID','count'),\n",
    "    nloans = ('DISBURSED', sum),\n",
    "    ndefaults = ('DR1', sum),\n",
    "    npfraud = ('PTFRAUD', sum)\n",
    ")\n",
    "dup_ind = dup_ind[dup_ind['nsurveys'] >= 2]\n",
    "dup_ind['dr'] = dup_ind['ndefaults']/dup_ind['nloans']\n",
    "dup_ind['fr'] = dup_ind['npfraud']/dup_ind['nloans']\n",
    "sns.boxplot(x= 'nsurveys', y= 'dr', data = dup_ind)\n",
    "plt.plot()"
   ]
  },
  {
   "cell_type": "code",
   "execution_count": 23,
   "metadata": {},
   "outputs": [],
   "source": [
    "data['POSITION'] = data['POSITION'].str.lower()"
   ]
  },
  {
   "cell_type": "code",
   "execution_count": 24,
   "metadata": {},
   "outputs": [
    {
     "data": {
      "text/html": [
       "<div>\n",
       "<style scoped>\n",
       "    .dataframe tbody tr th:only-of-type {\n",
       "        vertical-align: middle;\n",
       "    }\n",
       "\n",
       "    .dataframe tbody tr th {\n",
       "        vertical-align: top;\n",
       "    }\n",
       "\n",
       "    .dataframe thead th {\n",
       "        text-align: right;\n",
       "    }\n",
       "</style>\n",
       "<table border=\"1\" class=\"dataframe\">\n",
       "  <thead>\n",
       "    <tr style=\"text-align: right;\">\n",
       "      <th></th>\n",
       "      <th>HASH</th>\n",
       "      <th>CLIENT_ID</th>\n",
       "      <th>SURVEY_WEEK</th>\n",
       "      <th>ADDRESS</th>\n",
       "      <th>EMAIL</th>\n",
       "      <th>POSITION</th>\n",
       "      <th>INDUSTRY</th>\n",
       "      <th>DISBURSED</th>\n",
       "      <th>DR1</th>\n",
       "      <th>DEFAULTED</th>\n",
       "      <th>PTFRAUD</th>\n",
       "    </tr>\n",
       "  </thead>\n",
       "  <tbody>\n",
       "    <tr>\n",
       "      <th>0</th>\n",
       "      <td>ebzz8</td>\n",
       "      <td>202256497</td>\n",
       "      <td>2024-07-08</td>\n",
       "      <td>pharmatrust host</td>\n",
       "      <td>qkueenkatherine@gmail.com</td>\n",
       "      <td>owner</td>\n",
       "      <td>Trade - Retail</td>\n",
       "      <td>1</td>\n",
       "      <td>0</td>\n",
       "      <td>0</td>\n",
       "      <td>0</td>\n",
       "    </tr>\n",
       "    <tr>\n",
       "      <th>1</th>\n",
       "      <td>ebzzg</td>\n",
       "      <td>554460332</td>\n",
       "      <td>2024-07-08</td>\n",
       "      <td>Nii Sentse</td>\n",
       "      <td>abdulbasitmohammed42@gmail.com</td>\n",
       "      <td>glass worker</td>\n",
       "      <td>Artisan</td>\n",
       "      <td>1</td>\n",
       "      <td>0</td>\n",
       "      <td>0</td>\n",
       "      <td>0</td>\n",
       "    </tr>\n",
       "  </tbody>\n",
       "</table>\n",
       "</div>"
      ],
      "text/plain": [
       "    HASH  CLIENT_ID SURVEY_WEEK           ADDRESS  \\\n",
       "0  ebzz8  202256497  2024-07-08  pharmatrust host   \n",
       "1  ebzzg  554460332  2024-07-08        Nii Sentse   \n",
       "\n",
       "                            EMAIL      POSITION        INDUSTRY  DISBURSED  \\\n",
       "0       qkueenkatherine@gmail.com         owner  Trade - Retail          1   \n",
       "1  abdulbasitmohammed42@gmail.com  glass worker         Artisan          1   \n",
       "\n",
       "   DR1  DEFAULTED  PTFRAUD  \n",
       "0    0          0        0  \n",
       "1    0          0        0  "
      ]
     },
     "execution_count": 24,
     "metadata": {},
     "output_type": "execute_result"
    }
   ],
   "source": [
    "data.head(2)"
   ]
  },
  {
   "cell_type": "code",
   "execution_count": 26,
   "metadata": {},
   "outputs": [
    {
     "name": "stderr",
     "output_type": "stream",
     "text": [
      "/var/folders/br/rqk8kpt50q1_dkr0c2p_53lh0000gp/T/ipykernel_98728/1951295213.py:1: FutureWarning: The provided callable <built-in function sum> is currently using SeriesGroupBy.sum. In a future version of pandas, the provided callable will be used directly. To keep current behavior pass the string \"sum\" instead.\n",
      "  dup_add_pos = data.groupby(['HASH', 'SURVEY_WEEK', 'ADDRESS', 'POSITION']).agg(\n"
     ]
    },
    {
     "data": {
      "text/plain": [
       "[]"
      ]
     },
     "execution_count": 26,
     "metadata": {},
     "output_type": "execute_result"
    },
    {
     "data": {
      "image/png": "[encoded data removed]",
      "text/plain": [
       "<Figure size 640x480 with 1 Axes>"
      ]
     },
     "metadata": {},
     "output_type": "display_data"
    }
   ],
   "source": [
    "dup_add_pos = data.groupby(['HASH', 'SURVEY_WEEK', 'ADDRESS', 'POSITION']).agg(\n",
    "    nsurveys = ('CLIENT_ID','count'),\n",
    "    nloans = ('DISBURSED', sum),\n",
    "    ndefaults = ('DR1', sum),\n",
    "    npfraud = ('PTFRAUD', sum)\n",
    ")\n",
    "dup_add_ind['dr'] = dup_add_ind['ndefaults']/dup_add_ind['nloans']\n",
    "dup_add_ind['fr'] = dup_add_ind['npfraud']/dup_add_ind['nloans']\n",
    "dup_add_ind = dup_add_ind[dup_add_ind['nsurveys'] >= 2]\n",
    "sns.boxplot(x= 'nsurveys', y= 'dr', data = dup_add_ind)\n",
    "plt.title('DR Distribution by Address+Industry Duplication Count')\n",
    "plt.plot()"
   ]
  },
  {
   "cell_type": "code",
   "execution_count": 27,
   "metadata": {},
   "outputs": [
    {
     "name": "stderr",
     "output_type": "stream",
     "text": [
      "/var/folders/br/rqk8kpt50q1_dkr0c2p_53lh0000gp/T/ipykernel_98728/2953725484.py:1: FutureWarning: The provided callable <built-in function sum> is currently using SeriesGroupBy.sum. In a future version of pandas, the provided callable will be used directly. To keep current behavior pass the string \"sum\" instead.\n",
      "  summary = dup_add_pos.groupby(['nsurveys']).agg(\n"
     ]
    },
    {
     "data": {
      "text/html": [
       "<div>\n",
       "<style scoped>\n",
       "    .dataframe tbody tr th:only-of-type {\n",
       "        vertical-align: middle;\n",
       "    }\n",
       "\n",
       "    .dataframe tbody tr th {\n",
       "        vertical-align: top;\n",
       "    }\n",
       "\n",
       "    .dataframe thead th {\n",
       "        text-align: right;\n",
       "    }\n",
       "</style>\n",
       "<table border=\"1\" class=\"dataframe\">\n",
       "  <thead>\n",
       "    <tr style=\"text-align: right;\">\n",
       "      <th></th>\n",
       "      <th>nloans</th>\n",
       "      <th>ndefaults</th>\n",
       "      <th>dr1</th>\n",
       "    </tr>\n",
       "    <tr>\n",
       "      <th>nsurveys</th>\n",
       "      <th></th>\n",
       "      <th></th>\n",
       "      <th></th>\n",
       "    </tr>\n",
       "  </thead>\n",
       "  <tbody>\n",
       "    <tr>\n",
       "      <th>1</th>\n",
       "      <td>87145</td>\n",
       "      <td>16934</td>\n",
       "      <td>0.194320</td>\n",
       "    </tr>\n",
       "    <tr>\n",
       "      <th>2</th>\n",
       "      <td>296</td>\n",
       "      <td>117</td>\n",
       "      <td>0.395270</td>\n",
       "    </tr>\n",
       "    <tr>\n",
       "      <th>3</th>\n",
       "      <td>14</td>\n",
       "      <td>2</td>\n",
       "      <td>0.142857</td>\n",
       "    </tr>\n",
       "    <tr>\n",
       "      <th>4</th>\n",
       "      <td>1</td>\n",
       "      <td>0</td>\n",
       "      <td>0.000000</td>\n",
       "    </tr>\n",
       "    <tr>\n",
       "      <th>5</th>\n",
       "      <td>15</td>\n",
       "      <td>9</td>\n",
       "      <td>0.600000</td>\n",
       "    </tr>\n",
       "    <tr>\n",
       "      <th>6</th>\n",
       "      <td>4</td>\n",
       "      <td>4</td>\n",
       "      <td>1.000000</td>\n",
       "    </tr>\n",
       "    <tr>\n",
       "      <th>9</th>\n",
       "      <td>8</td>\n",
       "      <td>8</td>\n",
       "      <td>1.000000</td>\n",
       "    </tr>\n",
       "  </tbody>\n",
       "</table>\n",
       "</div>"
      ],
      "text/plain": [
       "          nloans  ndefaults       dr1\n",
       "nsurveys                             \n",
       "1          87145      16934  0.194320\n",
       "2            296        117  0.395270\n",
       "3             14          2  0.142857\n",
       "4              1          0  0.000000\n",
       "5             15          9  0.600000\n",
       "6              4          4  1.000000\n",
       "9              8          8  1.000000"
      ]
     },
     "execution_count": 27,
     "metadata": {},
     "output_type": "execute_result"
    }
   ],
   "source": [
    "summary = dup_add_pos.groupby(['nsurveys']).agg(\n",
    "    nloans = ('nloans', sum),\n",
    "    ndefaults = ('ndefaults', sum)\n",
    ")\n",
    "summary['dr1'] = summary['ndefaults']/summary['nloans']\n",
    "summary.head(10)"
   ]
  },
  {
   "cell_type": "code",
   "execution_count": 28,
   "metadata": {},
   "outputs": [],
   "source": [
    "summary = summary.reset_index()"
   ]
  },
  {
   "cell_type": "code",
   "execution_count": 30,
   "metadata": {},
   "outputs": [
    {
     "data": {
      "image/png": "[encoded data removed]",
      "text/plain": [
       "<Figure size 800x400 with 2 Axes>"
      ]
     },
     "metadata": {},
     "output_type": "display_data"
    }
   ],
   "source": [
    "fig, ax1 = plt.subplots(figsize=(8, 4))\n",
    "\n",
    "\n",
    "bars = ax1.bar(summary['nsurveys'], summary['nloans'], color='skyblue', label='Count')\n",
    "ax1.set_xlabel('Dup Add Per Week')\n",
    "ax1.set_ylabel('nLoans', color='blue')\n",
    "ax1.tick_params(axis='y', labelcolor='blue')\n",
    "\n",
    "ax1.set_xticks(summary['nsurveys'])\n",
    "ax1.set_xticklabels(summary['nsurveys'], rotation=90)\n",
    "# Create a second y-axis\n",
    "ax2 = ax1.twinx()\n",
    "ax2.plot(summary['nsurveys'],summary['dr1'], color='red', marker='o', linestyle='-', linewidth=2, label='Rate')\n",
    "ax2.set_ylabel('Default Rate', color='red')\n",
    "ax2.tick_params(axis='y', labelcolor='red')\n",
    "\n",
    "for bar in bars: \n",
    "    height = bar.get_height()\n",
    "    ax1.text(bar.get_x() + bar.get_width()/2, height, f'{height}', ha='center', va='bottom', fontsize=10, color='black')\n",
    "\n",
    "\n",
    "plt.title('Address + Position Duplication Per Week vs DR')\n",
    "plt.show()"
   ]
  },
  {
   "cell_type": "code",
   "execution_count": 37,
   "metadata": {},
   "outputs": [
    {
     "name": "stderr",
     "output_type": "stream",
     "text": [
      "/var/folders/br/rqk8kpt50q1_dkr0c2p_53lh0000gp/T/ipykernel_98728/4260814959.py:1: FutureWarning: The provided callable <built-in function sum> is currently using SeriesGroupBy.sum. In a future version of pandas, the provided callable will be used directly. To keep current behavior pass the string \"sum\" instead.\n",
      "  dup_add = data.groupby(['SURVEY_WEEK', 'ADDRESS']).agg(\n"
     ]
    },
    {
     "data": {
      "text/plain": [
       "[]"
      ]
     },
     "execution_count": 37,
     "metadata": {},
     "output_type": "execute_result"
    },
    {
     "data": {
      "image/png": "[encoded data removed]",
      "text/plain": [
       "<Figure size 640x480 with 1 Axes>"
      ]
     },
     "metadata": {},
     "output_type": "display_data"
    }
   ],
   "source": [
    "dup_add = data.groupby(['SURVEY_WEEK', 'ADDRESS']).agg(\n",
    "    nsurveys = ('CLIENT_ID','count'),\n",
    "    nloans = ('DISBURSED', sum),\n",
    "    ndefaults = ('DR1', sum),\n",
    "    npfraud = ('PTFRAUD', sum)\n",
    ")\n",
    "dup_add_ind['dr'] = dup_add_ind['ndefaults']/dup_add_ind['nloans']\n",
    "dup_add_ind['fr'] = dup_add_ind['npfraud']/dup_add_ind['nloans']\n",
    "dup_add_ind = dup_add_ind[dup_add_ind['nsurveys'] >= 2]\n",
    "sns.boxplot(x= 'nsurveys', y= 'dr', data = dup_add_ind)\n",
    "plt.title('DR Distribution by Address+Industry Duplication Count')\n",
    "plt.plot()"
   ]
  },
  {
   "cell_type": "code",
   "execution_count": 38,
   "metadata": {},
   "outputs": [
    {
     "name": "stderr",
     "output_type": "stream",
     "text": [
      "/var/folders/br/rqk8kpt50q1_dkr0c2p_53lh0000gp/T/ipykernel_98728/2703242245.py:1: FutureWarning: The provided callable <built-in function sum> is currently using SeriesGroupBy.sum. In a future version of pandas, the provided callable will be used directly. To keep current behavior pass the string \"sum\" instead.\n",
      "  summary = dup_add.groupby(['nsurveys']).agg(\n"
     ]
    },
    {
     "data": {
      "text/html": [
       "<div>\n",
       "<style scoped>\n",
       "    .dataframe tbody tr th:only-of-type {\n",
       "        vertical-align: middle;\n",
       "    }\n",
       "\n",
       "    .dataframe tbody tr th {\n",
       "        vertical-align: top;\n",
       "    }\n",
       "\n",
       "    .dataframe thead th {\n",
       "        text-align: right;\n",
       "    }\n",
       "</style>\n",
       "<table border=\"1\" class=\"dataframe\">\n",
       "  <thead>\n",
       "    <tr style=\"text-align: right;\">\n",
       "      <th></th>\n",
       "      <th>nloans</th>\n",
       "      <th>ndefaults</th>\n",
       "      <th>dr1</th>\n",
       "    </tr>\n",
       "    <tr>\n",
       "      <th>nsurveys</th>\n",
       "      <th></th>\n",
       "      <th></th>\n",
       "      <th></th>\n",
       "    </tr>\n",
       "  </thead>\n",
       "  <tbody>\n",
       "    <tr>\n",
       "      <th>1</th>\n",
       "      <td>83917</td>\n",
       "      <td>16014</td>\n",
       "      <td>0.190831</td>\n",
       "    </tr>\n",
       "    <tr>\n",
       "      <th>2</th>\n",
       "      <td>4969</td>\n",
       "      <td>1150</td>\n",
       "      <td>0.231435</td>\n",
       "    </tr>\n",
       "    <tr>\n",
       "      <th>3</th>\n",
       "      <td>1313</td>\n",
       "      <td>295</td>\n",
       "      <td>0.224676</td>\n",
       "    </tr>\n",
       "    <tr>\n",
       "      <th>4</th>\n",
       "      <td>506</td>\n",
       "      <td>104</td>\n",
       "      <td>0.205534</td>\n",
       "    </tr>\n",
       "    <tr>\n",
       "      <th>5</th>\n",
       "      <td>327</td>\n",
       "      <td>85</td>\n",
       "      <td>0.259939</td>\n",
       "    </tr>\n",
       "    <tr>\n",
       "      <th>6</th>\n",
       "      <td>220</td>\n",
       "      <td>60</td>\n",
       "      <td>0.272727</td>\n",
       "    </tr>\n",
       "    <tr>\n",
       "      <th>7</th>\n",
       "      <td>173</td>\n",
       "      <td>48</td>\n",
       "      <td>0.277457</td>\n",
       "    </tr>\n",
       "    <tr>\n",
       "      <th>8</th>\n",
       "      <td>80</td>\n",
       "      <td>20</td>\n",
       "      <td>0.250000</td>\n",
       "    </tr>\n",
       "    <tr>\n",
       "      <th>9</th>\n",
       "      <td>97</td>\n",
       "      <td>25</td>\n",
       "      <td>0.257732</td>\n",
       "    </tr>\n",
       "    <tr>\n",
       "      <th>10</th>\n",
       "      <td>97</td>\n",
       "      <td>27</td>\n",
       "      <td>0.278351</td>\n",
       "    </tr>\n",
       "  </tbody>\n",
       "</table>\n",
       "</div>"
      ],
      "text/plain": [
       "          nloans  ndefaults       dr1\n",
       "nsurveys                             \n",
       "1          83917      16014  0.190831\n",
       "2           4969       1150  0.231435\n",
       "3           1313        295  0.224676\n",
       "4            506        104  0.205534\n",
       "5            327         85  0.259939\n",
       "6            220         60  0.272727\n",
       "7            173         48  0.277457\n",
       "8             80         20  0.250000\n",
       "9             97         25  0.257732\n",
       "10            97         27  0.278351"
      ]
     },
     "execution_count": 38,
     "metadata": {},
     "output_type": "execute_result"
    }
   ],
   "source": [
    "summary = dup_add.groupby(['nsurveys']).agg(\n",
    "    nloans = ('nloans', sum),\n",
    "    ndefaults = ('ndefaults', sum)\n",
    ")\n",
    "summary['dr1'] = summary['ndefaults']/summary['nloans']\n",
    "summary.head(10)\n"
   ]
  },
  {
   "cell_type": "code",
   "execution_count": 40,
   "metadata": {},
   "outputs": [],
   "source": [
    "summary = summary.reset_index()"
   ]
  },
  {
   "cell_type": "code",
   "execution_count": 42,
   "metadata": {},
   "outputs": [
    {
     "data": {
      "image/png": "[encoded data removed]",
      "text/plain": [
       "<Figure size 800x400 with 2 Axes>"
      ]
     },
     "metadata": {},
     "output_type": "display_data"
    }
   ],
   "source": [
    "fig, ax1 = plt.subplots(figsize=(8, 4))\n",
    "\n",
    "\n",
    "bars = ax1.bar(summary['nsurveys'], summary['nloans'], color='skyblue', label='Count')\n",
    "ax1.set_xlabel('Dup Add Per Week')\n",
    "ax1.set_ylabel('nLoans', color='blue')\n",
    "ax1.tick_params(axis='y', labelcolor='blue')\n",
    "\n",
    "ax1.set_xticks(summary['nsurveys'])\n",
    "ax1.set_xticklabels(summary['nsurveys'], rotation=90)\n",
    "# Create a second y-axis\n",
    "ax2 = ax1.twinx()\n",
    "ax2.plot(summary['nsurveys'],summary['dr1'], color='red', marker='o', linestyle='-', linewidth=2, label='Rate')\n",
    "ax2.set_ylabel('Default Rate', color='red')\n",
    "ax2.tick_params(axis='y', labelcolor='red')\n",
    "\n",
    "for bar in bars: \n",
    "    height = bar.get_height()\n",
    "    ax1.text(bar.get_x() + bar.get_width()/2, height, f'{height}', ha='center', va='bottom', fontsize=10, color='black')\n",
    "\n",
    "\n",
    "plt.title('Address Duplication Per Week vs DR')\n",
    "plt.show()"
   ]
  },
  {
   "cell_type": "code",
   "execution_count": null,
   "metadata": {},
   "outputs": [],
   "source": []
  }
 ],
 "metadata": {
  "kernelspec": {
   "display_name": ".venv",
   "language": "python",
   "name": "python3"
  },
  "language_info": {
   "codemirror_mode": {
    "name": "ipython",
    "version": 3
   },
   "file_extension": ".py",
   "mimetype": "text/x-python",
   "name": "python",
   "nbconvert_exporter": "python",
   "pygments_lexer": "ipython3",
   "version": "3.12.8"
  }
 },
 "nbformat": 4,
 "nbformat_minor": 2
}
