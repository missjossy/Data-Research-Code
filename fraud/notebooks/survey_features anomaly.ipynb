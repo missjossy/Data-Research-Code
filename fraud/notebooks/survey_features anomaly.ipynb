{
 "cells": [
  {
   "cell_type": "code",
   "execution_count": 1,
   "metadata": {},
   "outputs": [],
   "source": [
    "import pandas as pd\n",
    "import numpy as np\n",
    "import seaborn as sns\n",
    "import scipy\n",
    "import sklearn"
   ]
  },
  {
   "cell_type": "code",
   "execution_count": 2,
   "metadata": {},
   "outputs": [
    {
     "data": {
      "text/html": [
       "<div>\n",
       "<style scoped>\n",
       "    .dataframe tbody tr th:only-of-type {\n",
       "        vertical-align: middle;\n",
       "    }\n",
       "\n",
       "    .dataframe tbody tr th {\n",
       "        vertical-align: top;\n",
       "    }\n",
       "\n",
       "    .dataframe thead th {\n",
       "        text-align: right;\n",
       "    }\n",
       "</style>\n",
       "<table border=\"1\" class=\"dataframe\">\n",
       "  <thead>\n",
       "    <tr style=\"text-align: right;\">\n",
       "      <th></th>\n",
       "      <th>CLIENT_ID</th>\n",
       "      <th>ADDRESS</th>\n",
       "      <th>ADDRESS2</th>\n",
       "      <th>INDUSTRY</th>\n",
       "      <th>POSITION</th>\n",
       "      <th>EMAIL</th>\n",
       "      <th>LN0_DISBURSMENT_DATE</th>\n",
       "      <th>SURVEY_DATE</th>\n",
       "      <th>SURVEY_WEEK</th>\n",
       "      <th>LAST_REPAYMENT_DATE</th>\n",
       "      <th>...</th>\n",
       "      <th>POSITION_DURATION</th>\n",
       "      <th>EMPLOYED_LENGTH_DURATION</th>\n",
       "      <th>BUSINESS_OWNERSHIP_DURATION</th>\n",
       "      <th>REFERENCES_DURATION</th>\n",
       "      <th>REFERENCE_RELATIONSHIP_DURATION</th>\n",
       "      <th>HEARD_ABOUT_US_DURATION</th>\n",
       "      <th>ALTERNATE_PHONE_NUMBER_DURATION</th>\n",
       "      <th>EMAIL_DURATION</th>\n",
       "      <th>TOTAL_DURATION</th>\n",
       "      <th>RNK</th>\n",
       "    </tr>\n",
       "  </thead>\n",
       "  <tbody>\n",
       "    <tr>\n",
       "      <th>0</th>\n",
       "      <td>999999895</td>\n",
       "      <td>13th avenue McCarthy Hill</td>\n",
       "      <td>NaN</td>\n",
       "      <td>NaN</td>\n",
       "      <td>NaN</td>\n",
       "      <td>darkodiana021@gmail.com</td>\n",
       "      <td>2024-11-12 19:49:41.000</td>\n",
       "      <td>2024-11-12 13:53:17.000</td>\n",
       "      <td>2024-11-11</td>\n",
       "      <td>2024-11-14 18:49:45.000</td>\n",
       "      <td>...</td>\n",
       "      <td>NaN</td>\n",
       "      <td>NaN</td>\n",
       "      <td>5.0</td>\n",
       "      <td>43.0</td>\n",
       "      <td>14.0</td>\n",
       "      <td>11.0</td>\n",
       "      <td>NaN</td>\n",
       "      <td>10.0</td>\n",
       "      <td>174.0</td>\n",
       "      <td>1.0</td>\n",
       "    </tr>\n",
       "    <tr>\n",
       "      <th>1</th>\n",
       "      <td>999998034</td>\n",
       "      <td>KPAGURI DKM WAREHOUSE</td>\n",
       "      <td>XW 03295647</td>\n",
       "      <td>NaN</td>\n",
       "      <td>NaN</td>\n",
       "      <td>mumtorniaa@gmail.com</td>\n",
       "      <td>2024-03-22 16:40:25.000</td>\n",
       "      <td>2024-03-13 10:45:02.000</td>\n",
       "      <td>2024-03-11</td>\n",
       "      <td>2024-04-26 19:18:49.000</td>\n",
       "      <td>...</td>\n",
       "      <td>NaN</td>\n",
       "      <td>NaN</td>\n",
       "      <td>6.0</td>\n",
       "      <td>41.0</td>\n",
       "      <td>4.0</td>\n",
       "      <td>8.0</td>\n",
       "      <td>24.0</td>\n",
       "      <td>31.0</td>\n",
       "      <td>156.0</td>\n",
       "      <td>1.0</td>\n",
       "    </tr>\n",
       "  </tbody>\n",
       "</table>\n",
       "<p>2 rows × 41 columns</p>\n",
       "</div>"
      ],
      "text/plain": [
       "   CLIENT_ID                    ADDRESS     ADDRESS2 INDUSTRY POSITION  \\\n",
       "0  999999895  13th avenue McCarthy Hill          NaN      NaN      NaN   \n",
       "1  999998034      KPAGURI DKM WAREHOUSE  XW 03295647      NaN      NaN   \n",
       "\n",
       "                     EMAIL     LN0_DISBURSMENT_DATE              SURVEY_DATE  \\\n",
       "0  darkodiana021@gmail.com  2024-11-12 19:49:41.000  2024-11-12 13:53:17.000   \n",
       "1     mumtorniaa@gmail.com  2024-03-22 16:40:25.000  2024-03-13 10:45:02.000   \n",
       "\n",
       "  SURVEY_WEEK      LAST_REPAYMENT_DATE  ... POSITION_DURATION  \\\n",
       "0  2024-11-11  2024-11-14 18:49:45.000  ...               NaN   \n",
       "1  2024-03-11  2024-04-26 19:18:49.000  ...               NaN   \n",
       "\n",
       "   EMPLOYED_LENGTH_DURATION  BUSINESS_OWNERSHIP_DURATION  REFERENCES_DURATION  \\\n",
       "0                       NaN                          5.0                 43.0   \n",
       "1                       NaN                          6.0                 41.0   \n",
       "\n",
       "  REFERENCE_RELATIONSHIP_DURATION  HEARD_ABOUT_US_DURATION  \\\n",
       "0                            14.0                     11.0   \n",
       "1                             4.0                      8.0   \n",
       "\n",
       "   ALTERNATE_PHONE_NUMBER_DURATION  EMAIL_DURATION  TOTAL_DURATION  RNK  \n",
       "0                              NaN            10.0           174.0  1.0  \n",
       "1                             24.0            31.0           156.0  1.0  \n",
       "\n",
       "[2 rows x 41 columns]"
      ]
     },
     "execution_count": 2,
     "metadata": {},
     "output_type": "execute_result"
    }
   ],
   "source": [
    "data = pd.read_csv('data/kyc_durations (1).csv')\n",
    "data.head(2)"
   ]
  },
  {
   "cell_type": "code",
   "execution_count": 3,
   "metadata": {},
   "outputs": [],
   "source": [
    "data['ADDRESS'] = data['ADDRESS'].str.lower()"
   ]
  },
  {
   "cell_type": "code",
   "execution_count": 4,
   "metadata": {},
   "outputs": [],
   "source": [
    "data['add_dup'] = data.duplicated(subset=[\"SURVEY_WEEK\", \"ADDRESS\"], keep=False).astype(int)"
   ]
  },
  {
   "cell_type": "code",
   "execution_count": 5,
   "metadata": {},
   "outputs": [
    {
     "data": {
      "text/html": [
       "<div>\n",
       "<style scoped>\n",
       "    .dataframe tbody tr th:only-of-type {\n",
       "        vertical-align: middle;\n",
       "    }\n",
       "\n",
       "    .dataframe tbody tr th {\n",
       "        vertical-align: top;\n",
       "    }\n",
       "\n",
       "    .dataframe thead th {\n",
       "        text-align: right;\n",
       "    }\n",
       "</style>\n",
       "<table border=\"1\" class=\"dataframe\">\n",
       "  <thead>\n",
       "    <tr style=\"text-align: right;\">\n",
       "      <th></th>\n",
       "      <th>CLIENT_ID</th>\n",
       "      <th>ADDRESS</th>\n",
       "      <th>ADDRESS2</th>\n",
       "      <th>INDUSTRY</th>\n",
       "      <th>POSITION</th>\n",
       "      <th>EMAIL</th>\n",
       "      <th>LN0_DISBURSMENT_DATE</th>\n",
       "      <th>SURVEY_DATE</th>\n",
       "      <th>SURVEY_WEEK</th>\n",
       "      <th>LAST_REPAYMENT_DATE</th>\n",
       "      <th>...</th>\n",
       "      <th>EMPLOYED_LENGTH_DURATION</th>\n",
       "      <th>BUSINESS_OWNERSHIP_DURATION</th>\n",
       "      <th>REFERENCES_DURATION</th>\n",
       "      <th>REFERENCE_RELATIONSHIP_DURATION</th>\n",
       "      <th>HEARD_ABOUT_US_DURATION</th>\n",
       "      <th>ALTERNATE_PHONE_NUMBER_DURATION</th>\n",
       "      <th>EMAIL_DURATION</th>\n",
       "      <th>TOTAL_DURATION</th>\n",
       "      <th>RNK</th>\n",
       "      <th>add_dup</th>\n",
       "    </tr>\n",
       "  </thead>\n",
       "  <tbody>\n",
       "    <tr>\n",
       "      <th>0</th>\n",
       "      <td>999999895</td>\n",
       "      <td>13th avenue mccarthy hill</td>\n",
       "      <td>NaN</td>\n",
       "      <td>NaN</td>\n",
       "      <td>NaN</td>\n",
       "      <td>darkodiana021@gmail.com</td>\n",
       "      <td>2024-11-12 19:49:41.000</td>\n",
       "      <td>2024-11-12 13:53:17.000</td>\n",
       "      <td>2024-11-11</td>\n",
       "      <td>2024-11-14 18:49:45.000</td>\n",
       "      <td>...</td>\n",
       "      <td>NaN</td>\n",
       "      <td>5.0</td>\n",
       "      <td>43.0</td>\n",
       "      <td>14.0</td>\n",
       "      <td>11.0</td>\n",
       "      <td>NaN</td>\n",
       "      <td>10.0</td>\n",
       "      <td>174.0</td>\n",
       "      <td>1.0</td>\n",
       "      <td>0</td>\n",
       "    </tr>\n",
       "    <tr>\n",
       "      <th>1</th>\n",
       "      <td>999998034</td>\n",
       "      <td>kpaguri dkm warehouse</td>\n",
       "      <td>XW 03295647</td>\n",
       "      <td>NaN</td>\n",
       "      <td>NaN</td>\n",
       "      <td>mumtorniaa@gmail.com</td>\n",
       "      <td>2024-03-22 16:40:25.000</td>\n",
       "      <td>2024-03-13 10:45:02.000</td>\n",
       "      <td>2024-03-11</td>\n",
       "      <td>2024-04-26 19:18:49.000</td>\n",
       "      <td>...</td>\n",
       "      <td>NaN</td>\n",
       "      <td>6.0</td>\n",
       "      <td>41.0</td>\n",
       "      <td>4.0</td>\n",
       "      <td>8.0</td>\n",
       "      <td>24.0</td>\n",
       "      <td>31.0</td>\n",
       "      <td>156.0</td>\n",
       "      <td>1.0</td>\n",
       "      <td>0</td>\n",
       "    </tr>\n",
       "  </tbody>\n",
       "</table>\n",
       "<p>2 rows × 42 columns</p>\n",
       "</div>"
      ],
      "text/plain": [
       "   CLIENT_ID                    ADDRESS     ADDRESS2 INDUSTRY POSITION  \\\n",
       "0  999999895  13th avenue mccarthy hill          NaN      NaN      NaN   \n",
       "1  999998034      kpaguri dkm warehouse  XW 03295647      NaN      NaN   \n",
       "\n",
       "                     EMAIL     LN0_DISBURSMENT_DATE              SURVEY_DATE  \\\n",
       "0  darkodiana021@gmail.com  2024-11-12 19:49:41.000  2024-11-12 13:53:17.000   \n",
       "1     mumtorniaa@gmail.com  2024-03-22 16:40:25.000  2024-03-13 10:45:02.000   \n",
       "\n",
       "  SURVEY_WEEK      LAST_REPAYMENT_DATE  ... EMPLOYED_LENGTH_DURATION  \\\n",
       "0  2024-11-11  2024-11-14 18:49:45.000  ...                      NaN   \n",
       "1  2024-03-11  2024-04-26 19:18:49.000  ...                      NaN   \n",
       "\n",
       "   BUSINESS_OWNERSHIP_DURATION  REFERENCES_DURATION  \\\n",
       "0                          5.0                 43.0   \n",
       "1                          6.0                 41.0   \n",
       "\n",
       "   REFERENCE_RELATIONSHIP_DURATION HEARD_ABOUT_US_DURATION  \\\n",
       "0                             14.0                    11.0   \n",
       "1                              4.0                     8.0   \n",
       "\n",
       "   ALTERNATE_PHONE_NUMBER_DURATION  EMAIL_DURATION  TOTAL_DURATION  RNK  \\\n",
       "0                              NaN            10.0           174.0  1.0   \n",
       "1                             24.0            31.0           156.0  1.0   \n",
       "\n",
       "  add_dup  \n",
       "0       0  \n",
       "1       0  \n",
       "\n",
       "[2 rows x 42 columns]"
      ]
     },
     "execution_count": 5,
     "metadata": {},
     "output_type": "execute_result"
    }
   ],
   "source": [
    "data.head(2)"
   ]
  },
  {
   "cell_type": "code",
   "execution_count": 6,
   "metadata": {},
   "outputs": [
    {
     "data": {
      "text/plain": [
       "add_dup\n",
       "0    284921\n",
       "1    143218\n",
       "Name: count, dtype: int64"
      ]
     },
     "execution_count": 6,
     "metadata": {},
     "output_type": "execute_result"
    }
   ],
   "source": [
    "data['add_dup'].value_counts()"
   ]
  },
  {
   "cell_type": "code",
   "execution_count": 7,
   "metadata": {},
   "outputs": [],
   "source": [
    "import pandas as pd\n",
    "import numpy as np\n",
    "from sklearn.model_selection import train_test_split\n",
    "from sklearn.linear_model import LogisticRegression\n",
    "from sklearn.preprocessing import StandardScaler\n",
    "from sklearn.ensemble import RandomForestClassifier\n",
    "from sklearn.metrics import accuracy_score, classification_report, confusion_matrix\n",
    "from sklearn.preprocessing import LabelEncoder"
   ]
  },
  {
   "cell_type": "code",
   "execution_count": 8,
   "metadata": {},
   "outputs": [],
   "source": [
    "df = data[data['DISBURSED'] == 1]"
   ]
  },
  {
   "cell_type": "code",
   "execution_count": 9,
   "metadata": {},
   "outputs": [
    {
     "name": "stdout",
     "output_type": "stream",
     "text": [
      "<class 'pandas.core.frame.DataFrame'>\n",
      "Index: 204599 entries, 0 to 428138\n",
      "Data columns (total 42 columns):\n",
      " #   Column                           Non-Null Count   Dtype  \n",
      "---  ------                           --------------   -----  \n",
      " 0   CLIENT_ID                        204599 non-null  int64  \n",
      " 1   ADDRESS                          204490 non-null  object \n",
      " 2   ADDRESS2                         68236 non-null   object \n",
      " 3   INDUSTRY                         194381 non-null  object \n",
      " 4   POSITION                         194366 non-null  object \n",
      " 5   EMAIL                            152567 non-null  object \n",
      " 6   LN0_DISBURSMENT_DATE             204599 non-null  object \n",
      " 7   SURVEY_DATE                      204599 non-null  object \n",
      " 8   SURVEY_WEEK                      204599 non-null  object \n",
      " 9   LAST_REPAYMENT_DATE              171557 non-null  object \n",
      " 10  LAST_EXPECTED_REPAYMENT          204599 non-null  object \n",
      " 11  TOTAL_REPAYMENT_AMOUNT           171557 non-null  float64\n",
      " 12  TOTAL_DISBURSMENT_AMOUNT         204599 non-null  float64\n",
      " 13  DAYS_FROM_FIRST_DUE_INSTALLMENT  40173 non-null   float64\n",
      " 14  DISB_DATE                        204599 non-null  object \n",
      " 15  DISBURSED                        204599 non-null  int64  \n",
      " 16  DR1                              204599 non-null  int64  \n",
      " 17  DEFAULTED                        204599 non-null  int64  \n",
      " 18  PTFRAUD                          204599 non-null  int64  \n",
      " 19  USER_ID                          176099 non-null  object \n",
      " 20  CREATED_TIMESTAMP                176099 non-null  object \n",
      " 21  VERSION                          176099 non-null  object \n",
      " 22  MARITAL_STATUS_DURATION          176099 non-null  float64\n",
      " 23  ENROLLED_TO_SCHOOL_DURATION      176099 non-null  float64\n",
      " 24  DEPENDENTS_DURATION              176099 non-null  float64\n",
      " 25  HOME_OWNER_DURATION              176099 non-null  float64\n",
      " 26  SETTLEMENT_PERIOD_DURATION       176099 non-null  float64\n",
      " 27  PHYSICAL_DISABILITIES_DURATION   176099 non-null  float64\n",
      " 28  MONTHLY_INCOME_DURATION          176099 non-null  float64\n",
      " 29  MAIN_INCOME_SOURCE_DURATION      176099 non-null  float64\n",
      " 30  INDUSTRY_DURATION                167558 non-null  float64\n",
      " 31  POSITION_DURATION                167544 non-null  float64\n",
      " 32  EMPLOYED_LENGTH_DURATION         167546 non-null  float64\n",
      " 33  BUSINESS_OWNERSHIP_DURATION      176099 non-null  float64\n",
      " 34  REFERENCES_DURATION              176099 non-null  float64\n",
      " 35  REFERENCE_RELATIONSHIP_DURATION  176099 non-null  float64\n",
      " 36  HEARD_ABOUT_US_DURATION          176099 non-null  float64\n",
      " 37  ALTERNATE_PHONE_NUMBER_DURATION  138135 non-null  float64\n",
      " 38  EMAIL_DURATION                   126380 non-null  float64\n",
      " 39  TOTAL_DURATION                   176099 non-null  float64\n",
      " 40  RNK                              176099 non-null  float64\n",
      " 41  add_dup                          204599 non-null  int64  \n",
      "dtypes: float64(22), int64(6), object(14)\n",
      "memory usage: 67.1+ MB\n"
     ]
    }
   ],
   "source": [
    "df.info()"
   ]
  },
  {
   "cell_type": "code",
   "execution_count": 10,
   "metadata": {},
   "outputs": [
    {
     "data": {
      "text/plain": [
       "Index(['CLIENT_ID', 'ADDRESS', 'ADDRESS2', 'INDUSTRY', 'POSITION', 'EMAIL',\n",
       "       'LN0_DISBURSMENT_DATE', 'SURVEY_DATE', 'SURVEY_WEEK',\n",
       "       'LAST_REPAYMENT_DATE', 'LAST_EXPECTED_REPAYMENT',\n",
       "       'TOTAL_REPAYMENT_AMOUNT', 'TOTAL_DISBURSMENT_AMOUNT',\n",
       "       'DAYS_FROM_FIRST_DUE_INSTALLMENT', 'DISB_DATE', 'DISBURSED', 'DR1',\n",
       "       'DEFAULTED', 'PTFRAUD', 'USER_ID', 'CREATED_TIMESTAMP', 'VERSION',\n",
       "       'MARITAL_STATUS_DURATION', 'ENROLLED_TO_SCHOOL_DURATION',\n",
       "       'DEPENDENTS_DURATION', 'HOME_OWNER_DURATION',\n",
       "       'SETTLEMENT_PERIOD_DURATION', 'PHYSICAL_DISABILITIES_DURATION',\n",
       "       'MONTHLY_INCOME_DURATION', 'MAIN_INCOME_SOURCE_DURATION',\n",
       "       'INDUSTRY_DURATION', 'POSITION_DURATION', 'EMPLOYED_LENGTH_DURATION',\n",
       "       'BUSINESS_OWNERSHIP_DURATION', 'REFERENCES_DURATION',\n",
       "       'REFERENCE_RELATIONSHIP_DURATION', 'HEARD_ABOUT_US_DURATION',\n",
       "       'ALTERNATE_PHONE_NUMBER_DURATION', 'EMAIL_DURATION', 'TOTAL_DURATION',\n",
       "       'RNK', 'add_dup'],\n",
       "      dtype='object')"
      ]
     },
     "execution_count": 10,
     "metadata": {},
     "output_type": "execute_result"
    }
   ],
   "source": [
    "df.columns"
   ]
  },
  {
   "cell_type": "code",
   "execution_count": 11,
   "metadata": {},
   "outputs": [],
   "source": [
    "df = df[['add_dup', 'TOTAL_DURATION', 'DEFAULTED']]\n",
    "df = df.dropna()"
   ]
  },
  {
   "cell_type": "code",
   "execution_count": 12,
   "metadata": {},
   "outputs": [],
   "source": [
    "X = df[['add_dup', 'TOTAL_DURATION']]\n",
    "y = df[['DEFAULTED']]"
   ]
  },
  {
   "cell_type": "code",
   "execution_count": 13,
   "metadata": {},
   "outputs": [],
   "source": [
    "X_train, X_test, y_train, y_test = train_test_split(X, y, test_size=0.2, random_state=42, stratify=y)"
   ]
  },
  {
   "cell_type": "code",
   "execution_count": 14,
   "metadata": {},
   "outputs": [
    {
     "name": "stdout",
     "output_type": "stream",
     "text": [
      "Accuracy: 0.98\n",
      "\n",
      "Classification Report:\n",
      "               precision    recall  f1-score   support\n",
      "\n",
      "           0       0.98      1.00      0.99     34563\n",
      "           1       0.00      0.00      0.00       657\n",
      "\n",
      "    accuracy                           0.98     35220\n",
      "   macro avg       0.49      0.50      0.50     35220\n",
      "weighted avg       0.96      0.98      0.97     35220\n",
      "\n",
      "\n",
      "Confusion Matrix:\n",
      " [[34563     0]\n",
      " [  657     0]]\n"
     ]
    },
    {
     "name": "stderr",
     "output_type": "stream",
     "text": [
      "/Users/fido_josephine/Documents/New-Fraud-Rules/.venv/lib/python3.12/site-packages/sklearn/utils/validation.py:1408: DataConversionWarning: A column-vector y was passed when a 1d array was expected. Please change the shape of y to (n_samples, ), for example using ravel().\n",
      "  y = column_or_1d(y, warn=True)\n",
      "/Users/fido_josephine/Documents/New-Fraud-Rules/.venv/lib/python3.12/site-packages/sklearn/metrics/_classification.py:1565: UndefinedMetricWarning: Precision is ill-defined and being set to 0.0 in labels with no predicted samples. Use `zero_division` parameter to control this behavior.\n",
      "  _warn_prf(average, modifier, f\"{metric.capitalize()} is\", len(result))\n",
      "/Users/fido_josephine/Documents/New-Fraud-Rules/.venv/lib/python3.12/site-packages/sklearn/metrics/_classification.py:1565: UndefinedMetricWarning: Precision is ill-defined and being set to 0.0 in labels with no predicted samples. Use `zero_division` parameter to control this behavior.\n",
      "  _warn_prf(average, modifier, f\"{metric.capitalize()} is\", len(result))\n",
      "/Users/fido_josephine/Documents/New-Fraud-Rules/.venv/lib/python3.12/site-packages/sklearn/metrics/_classification.py:1565: UndefinedMetricWarning: Precision is ill-defined and being set to 0.0 in labels with no predicted samples. Use `zero_division` parameter to control this behavior.\n",
      "  _warn_prf(average, modifier, f\"{metric.capitalize()} is\", len(result))\n"
     ]
    }
   ],
   "source": [
    "scaler = StandardScaler()\n",
    "X_train = scaler.fit_transform(X_train)\n",
    "X_test = scaler.transform(X_test)\n",
    "\n",
    "log_reg = LogisticRegression(random_state=42)\n",
    "\n",
    "# Train the model\n",
    "log_reg.fit(X_train, y_train)\n",
    "y_pred = log_reg.predict(X_test)\n",
    "\n",
    "# Accuracy\n",
    "accuracy = accuracy_score(y_test, y_pred)\n",
    "print(f'Accuracy: {accuracy:.2f}')\n",
    "\n",
    "# Classification Report\n",
    "print(\"\\nClassification Report:\\n\", classification_report(y_test, y_pred))\n",
    "\n",
    "# Confusion Matrix\n",
    "print(\"\\nConfusion Matrix:\\n\", confusion_matrix(y_test, y_pred))"
   ]
  },
  {
   "cell_type": "code",
   "execution_count": 15,
   "metadata": {},
   "outputs": [
    {
     "data": {
      "text/html": [
       "<div>\n",
       "<style scoped>\n",
       "    .dataframe tbody tr th:only-of-type {\n",
       "        vertical-align: middle;\n",
       "    }\n",
       "\n",
       "    .dataframe tbody tr th {\n",
       "        vertical-align: top;\n",
       "    }\n",
       "\n",
       "    .dataframe thead th {\n",
       "        text-align: right;\n",
       "    }\n",
       "</style>\n",
       "<table border=\"1\" class=\"dataframe\">\n",
       "  <thead>\n",
       "    <tr style=\"text-align: right;\">\n",
       "      <th></th>\n",
       "      <th>Feature</th>\n",
       "      <th>Coefficient</th>\n",
       "    </tr>\n",
       "  </thead>\n",
       "  <tbody>\n",
       "    <tr>\n",
       "      <th>0</th>\n",
       "      <td>add_dup</td>\n",
       "      <td>-0.017119</td>\n",
       "    </tr>\n",
       "    <tr>\n",
       "      <th>1</th>\n",
       "      <td>TOTAL_DURATION</td>\n",
       "      <td>-0.004569</td>\n",
       "    </tr>\n",
       "  </tbody>\n",
       "</table>\n",
       "</div>"
      ],
      "text/plain": [
       "          Feature  Coefficient\n",
       "0         add_dup    -0.017119\n",
       "1  TOTAL_DURATION    -0.004569"
      ]
     },
     "execution_count": 15,
     "metadata": {},
     "output_type": "execute_result"
    }
   ],
   "source": [
    "coef_df = pd.DataFrame({\"Feature\": X.columns, \"Coefficient\": log_reg.coef_[0]})\n",
    "coef_df"
   ]
  },
  {
   "cell_type": "markdown",
   "metadata": {},
   "source": [
    "KYC Duration vs DR"
   ]
  },
  {
   "cell_type": "code",
   "execution_count": 16,
   "metadata": {},
   "outputs": [],
   "source": [
    "import matplotlib.pyplot as plt"
   ]
  },
  {
   "cell_type": "code",
   "execution_count": 17,
   "metadata": {},
   "outputs": [
    {
     "data": {
      "image/png": "[encoded data removed]",
      "text/plain": [
       "<Figure size 800x600 with 1 Axes>"
      ]
     },
     "metadata": {},
     "output_type": "display_data"
    }
   ],
   "source": [
    "plt.figure(figsize=(8, 6))\n",
    "plt.hist(data['TOTAL_DURATION'], bins=12, edgecolor='black', color='skyblue')\n",
    "# plt.title('Histogram of Duration to Business Name Answer')\n",
    "plt.xlabel('Duration (seconds)')\n",
    "plt.ylabel('Frequency')\n",
    "plt.grid(True)\n",
    "plt.show()"
   ]
  },
  {
   "cell_type": "code",
   "execution_count": 18,
   "metadata": {},
   "outputs": [],
   "source": [
    "dur = data[(data['TOTAL_DURATION'] > -258812) & (data['TOTAL_DURATION'] < 3000) & (data['DISBURSED'] == 1)]"
   ]
  },
  {
   "cell_type": "code",
   "execution_count": 19,
   "metadata": {},
   "outputs": [
    {
     "data": {
      "image/png": "[encoded data removed]",
      "text/plain": [
       "<Figure size 800x600 with 1 Axes>"
      ]
     },
     "metadata": {},
     "output_type": "display_data"
    }
   ],
   "source": [
    "plt.figure(figsize=(8, 6))\n",
    "plt.hist(dur['TOTAL_DURATION'], bins=12, edgecolor='black', color='skyblue')\n",
    "# plt.title('Histogram of Duration to Business Name Answer')\n",
    "plt.xlabel('Duration (seconds)')\n",
    "plt.ylabel('Frequency')\n",
    "plt.grid(True)\n",
    "plt.show()"
   ]
  },
  {
   "cell_type": "code",
   "execution_count": 20,
   "metadata": {},
   "outputs": [
    {
     "name": "stderr",
     "output_type": "stream",
     "text": [
      "/var/folders/br/rqk8kpt50q1_dkr0c2p_53lh0000gp/T/ipykernel_98855/4136896119.py:4: SettingWithCopyWarning: \n",
      "A value is trying to be set on a copy of a slice from a DataFrame.\n",
      "Try using .loc[row_indexer,col_indexer] = value instead\n",
      "\n",
      "See the caveats in the documentation: https://pandas.pydata.org/pandas-docs/stable/user_guide/indexing.html#returning-a-view-versus-a-copy\n",
      "  dur['duration_bin'] = pd.cut(dur['TOTAL_DURATION'], bins=duration_bins, labels=dur_labels, right=False)\n"
     ]
    }
   ],
   "source": [
    "duration_bins = [0, 100, 200,  300, 400,  500, 600, 700, 800, 900, 1000, 1100, 1200, 1300, 1400, 1500, 1600, 1700, 1800, 1900, 2000]\n",
    "dur_labels = [f'{i}-{i+100} sec' for i in range(0, 2000, 100)]\n",
    "\n",
    "dur['duration_bin'] = pd.cut(dur['TOTAL_DURATION'], bins=duration_bins, labels=dur_labels, right=False)"
   ]
  },
  {
   "cell_type": "code",
   "execution_count": 21,
   "metadata": {},
   "outputs": [
    {
     "name": "stderr",
     "output_type": "stream",
     "text": [
      "/var/folders/br/rqk8kpt50q1_dkr0c2p_53lh0000gp/T/ipykernel_98855/773318700.py:1: FutureWarning: The default of observed=False is deprecated and will be changed to True in a future version of pandas. Pass observed=False to retain current behavior or observed=True to adopt the future default and silence this warning.\n",
      "  bins = dur.groupby('duration_bin').agg(\n"
     ]
    }
   ],
   "source": [
    "bins = dur.groupby('duration_bin').agg(\n",
    "    default_count=('DEFAULTED', 'sum'),\n",
    "    total_count=('CLIENT_ID', 'count')\n",
    ")\n",
    "bins['dr1'] = bins['default_count'] / bins['total_count']\n",
    "bins = bins.reset_index()"
   ]
  },
  {
   "cell_type": "code",
   "execution_count": 22,
   "metadata": {},
   "outputs": [
    {
     "data": {
      "text/html": [
       "<div>\n",
       "<style scoped>\n",
       "    .dataframe tbody tr th:only-of-type {\n",
       "        vertical-align: middle;\n",
       "    }\n",
       "\n",
       "    .dataframe tbody tr th {\n",
       "        vertical-align: top;\n",
       "    }\n",
       "\n",
       "    .dataframe thead th {\n",
       "        text-align: right;\n",
       "    }\n",
       "</style>\n",
       "<table border=\"1\" class=\"dataframe\">\n",
       "  <thead>\n",
       "    <tr style=\"text-align: right;\">\n",
       "      <th></th>\n",
       "      <th>duration_bin</th>\n",
       "      <th>default_count</th>\n",
       "      <th>total_count</th>\n",
       "      <th>dr1</th>\n",
       "    </tr>\n",
       "  </thead>\n",
       "  <tbody>\n",
       "    <tr>\n",
       "      <th>0</th>\n",
       "      <td>0-100 sec</td>\n",
       "      <td>40</td>\n",
       "      <td>1845</td>\n",
       "      <td>0.021680</td>\n",
       "    </tr>\n",
       "    <tr>\n",
       "      <th>1</th>\n",
       "      <td>100-200 sec</td>\n",
       "      <td>661</td>\n",
       "      <td>33051</td>\n",
       "      <td>0.019999</td>\n",
       "    </tr>\n",
       "    <tr>\n",
       "      <th>2</th>\n",
       "      <td>200-300 sec</td>\n",
       "      <td>947</td>\n",
       "      <td>50549</td>\n",
       "      <td>0.018734</td>\n",
       "    </tr>\n",
       "    <tr>\n",
       "      <th>3</th>\n",
       "      <td>300-400 sec</td>\n",
       "      <td>717</td>\n",
       "      <td>37075</td>\n",
       "      <td>0.019339</td>\n",
       "    </tr>\n",
       "    <tr>\n",
       "      <th>4</th>\n",
       "      <td>400-500 sec</td>\n",
       "      <td>386</td>\n",
       "      <td>22462</td>\n",
       "      <td>0.017185</td>\n",
       "    </tr>\n",
       "    <tr>\n",
       "      <th>5</th>\n",
       "      <td>500-600 sec</td>\n",
       "      <td>217</td>\n",
       "      <td>12907</td>\n",
       "      <td>0.016813</td>\n",
       "    </tr>\n",
       "    <tr>\n",
       "      <th>6</th>\n",
       "      <td>600-700 sec</td>\n",
       "      <td>144</td>\n",
       "      <td>7231</td>\n",
       "      <td>0.019914</td>\n",
       "    </tr>\n",
       "    <tr>\n",
       "      <th>7</th>\n",
       "      <td>700-800 sec</td>\n",
       "      <td>68</td>\n",
       "      <td>4154</td>\n",
       "      <td>0.016370</td>\n",
       "    </tr>\n",
       "    <tr>\n",
       "      <th>8</th>\n",
       "      <td>800-900 sec</td>\n",
       "      <td>44</td>\n",
       "      <td>2483</td>\n",
       "      <td>0.017720</td>\n",
       "    </tr>\n",
       "    <tr>\n",
       "      <th>9</th>\n",
       "      <td>900-1000 sec</td>\n",
       "      <td>20</td>\n",
       "      <td>1453</td>\n",
       "      <td>0.013765</td>\n",
       "    </tr>\n",
       "    <tr>\n",
       "      <th>10</th>\n",
       "      <td>1000-1100 sec</td>\n",
       "      <td>14</td>\n",
       "      <td>879</td>\n",
       "      <td>0.015927</td>\n",
       "    </tr>\n",
       "    <tr>\n",
       "      <th>11</th>\n",
       "      <td>1100-1200 sec</td>\n",
       "      <td>6</td>\n",
       "      <td>596</td>\n",
       "      <td>0.010067</td>\n",
       "    </tr>\n",
       "    <tr>\n",
       "      <th>12</th>\n",
       "      <td>1200-1300 sec</td>\n",
       "      <td>5</td>\n",
       "      <td>402</td>\n",
       "      <td>0.012438</td>\n",
       "    </tr>\n",
       "    <tr>\n",
       "      <th>13</th>\n",
       "      <td>1300-1400 sec</td>\n",
       "      <td>1</td>\n",
       "      <td>232</td>\n",
       "      <td>0.004310</td>\n",
       "    </tr>\n",
       "    <tr>\n",
       "      <th>14</th>\n",
       "      <td>1400-1500 sec</td>\n",
       "      <td>3</td>\n",
       "      <td>172</td>\n",
       "      <td>0.017442</td>\n",
       "    </tr>\n",
       "    <tr>\n",
       "      <th>15</th>\n",
       "      <td>1500-1600 sec</td>\n",
       "      <td>4</td>\n",
       "      <td>131</td>\n",
       "      <td>0.030534</td>\n",
       "    </tr>\n",
       "    <tr>\n",
       "      <th>16</th>\n",
       "      <td>1600-1700 sec</td>\n",
       "      <td>0</td>\n",
       "      <td>84</td>\n",
       "      <td>0.000000</td>\n",
       "    </tr>\n",
       "    <tr>\n",
       "      <th>17</th>\n",
       "      <td>1700-1800 sec</td>\n",
       "      <td>2</td>\n",
       "      <td>69</td>\n",
       "      <td>0.028986</td>\n",
       "    </tr>\n",
       "    <tr>\n",
       "      <th>18</th>\n",
       "      <td>1800-1900 sec</td>\n",
       "      <td>1</td>\n",
       "      <td>49</td>\n",
       "      <td>0.020408</td>\n",
       "    </tr>\n",
       "    <tr>\n",
       "      <th>19</th>\n",
       "      <td>1900-2000 sec</td>\n",
       "      <td>1</td>\n",
       "      <td>49</td>\n",
       "      <td>0.020408</td>\n",
       "    </tr>\n",
       "  </tbody>\n",
       "</table>\n",
       "</div>"
      ],
      "text/plain": [
       "     duration_bin  default_count  total_count       dr1\n",
       "0       0-100 sec             40         1845  0.021680\n",
       "1     100-200 sec            661        33051  0.019999\n",
       "2     200-300 sec            947        50549  0.018734\n",
       "3     300-400 sec            717        37075  0.019339\n",
       "4     400-500 sec            386        22462  0.017185\n",
       "5     500-600 sec            217        12907  0.016813\n",
       "6     600-700 sec            144         7231  0.019914\n",
       "7     700-800 sec             68         4154  0.016370\n",
       "8     800-900 sec             44         2483  0.017720\n",
       "9    900-1000 sec             20         1453  0.013765\n",
       "10  1000-1100 sec             14          879  0.015927\n",
       "11  1100-1200 sec              6          596  0.010067\n",
       "12  1200-1300 sec              5          402  0.012438\n",
       "13  1300-1400 sec              1          232  0.004310\n",
       "14  1400-1500 sec              3          172  0.017442\n",
       "15  1500-1600 sec              4          131  0.030534\n",
       "16  1600-1700 sec              0           84  0.000000\n",
       "17  1700-1800 sec              2           69  0.028986\n",
       "18  1800-1900 sec              1           49  0.020408\n",
       "19  1900-2000 sec              1           49  0.020408"
      ]
     },
     "execution_count": 22,
     "metadata": {},
     "output_type": "execute_result"
    }
   ],
   "source": [
    "bins"
   ]
  },
  {
   "cell_type": "code",
   "execution_count": 23,
   "metadata": {},
   "outputs": [
    {
     "data": {
      "image/png": "[encoded data removed]",
      "text/plain": [
       "<Figure size 800x400 with 2 Axes>"
      ]
     },
     "metadata": {},
     "output_type": "display_data"
    }
   ],
   "source": [
    "fig, ax1 = plt.subplots(figsize=(8, 4))\n",
    "\n",
    "\n",
    "bars = ax1.bar(bins['duration_bin'], bins['total_count'], color='skyblue', label='Count')\n",
    "ax1.set_xlabel('Duration Bin')\n",
    "ax1.set_ylabel('nLoans', color='blue')\n",
    "ax1.tick_params(axis='y', labelcolor='blue')\n",
    "\n",
    "ax1.set_xticks(range(len(bins['duration_bin'])))\n",
    "ax1.set_xticklabels(bins['duration_bin'], rotation=90)\n",
    "# Create a second y-axis\n",
    "ax2 = ax1.twinx()\n",
    "ax2.plot(bins['duration_bin'],bins['dr1'], color='red', marker='o', linestyle='-', linewidth=2, label='Rate')\n",
    "ax2.set_ylabel('Default Rate', color='red')\n",
    "ax2.tick_params(axis='y', labelcolor='red')\n",
    "\n",
    "for bar in bars: \n",
    "    height = bar.get_height()\n",
    "    ax1.text(bar.get_x() + bar.get_width()/2, height, f'{height}', ha='center', va='bottom', fontsize=10, color='black')\n",
    "\n",
    "# Add a title\n",
    "plt.title('Survey Duration vs DR')\n",
    "plt.show()"
   ]
  },
  {
   "cell_type": "code",
   "execution_count": null,
   "metadata": {},
   "outputs": [],
   "source": []
  }
 ],
 "metadata": {
  "kernelspec": {
   "display_name": ".venv",
   "language": "python",
   "name": "python3"
  },
  "language_info": {
   "codemirror_mode": {
    "name": "ipython",
    "version": 3
   },
   "file_extension": ".py",
   "mimetype": "text/x-python",
   "name": "python",
   "nbconvert_exporter": "python",
   "pygments_lexer": "ipython3",
   "version": "3.12.8"
  }
 },
 "nbformat": 4,
 "nbformat_minor": 2
}
