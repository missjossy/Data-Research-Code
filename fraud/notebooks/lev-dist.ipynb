{
 "cells": [
  {
   "cell_type": "code",
   "execution_count": 1,
   "metadata": {},
   "outputs": [],
   "source": [
    "import Levenshtein\n",
    "import pandas as pd \n",
    "import numpy as np"
   ]
  },
  {
   "cell_type": "code",
   "execution_count": 2,
   "metadata": {},
   "outputs": [
    {
     "data": {
      "text/html": [
       "<div>\n",
       "<style scoped>\n",
       "    .dataframe tbody tr th:only-of-type {\n",
       "        vertical-align: middle;\n",
       "    }\n",
       "\n",
       "    .dataframe tbody tr th {\n",
       "        vertical-align: top;\n",
       "    }\n",
       "\n",
       "    .dataframe thead th {\n",
       "        text-align: right;\n",
       "    }\n",
       "</style>\n",
       "<table border=\"1\" class=\"dataframe\">\n",
       "  <thead>\n",
       "    <tr style=\"text-align: right;\">\n",
       "      <th></th>\n",
       "      <th>HASH</th>\n",
       "      <th>CLIENT_ID</th>\n",
       "      <th>SURVEY_WEEK</th>\n",
       "      <th>SURVEY_DATE</th>\n",
       "      <th>ADDRESS</th>\n",
       "      <th>EMAIL</th>\n",
       "      <th>POSITION</th>\n",
       "      <th>DISB_DATE</th>\n",
       "      <th>INDUSTRY</th>\n",
       "      <th>DISBURSED</th>\n",
       "      <th>DR1</th>\n",
       "      <th>DEFAULTED</th>\n",
       "      <th>PTFRAUD</th>\n",
       "    </tr>\n",
       "  </thead>\n",
       "  <tbody>\n",
       "    <tr>\n",
       "      <th>0</th>\n",
       "      <td>ecpb0</td>\n",
       "      <td>178484003</td>\n",
       "      <td>2024-02-05</td>\n",
       "      <td>2024-02-05 09:36:39.000</td>\n",
       "      <td>Peace church</td>\n",
       "      <td>acquahmary574@gmail.com</td>\n",
       "      <td>Packaging</td>\n",
       "      <td>2024-02-05 09:40:44.000</td>\n",
       "      <td>Food Industry</td>\n",
       "      <td>1</td>\n",
       "      <td>0</td>\n",
       "      <td>0</td>\n",
       "      <td>0</td>\n",
       "    </tr>\n",
       "    <tr>\n",
       "      <th>1</th>\n",
       "      <td>NaN</td>\n",
       "      <td>844806159</td>\n",
       "      <td>2024-01-29</td>\n",
       "      <td>2024-01-30 23:10:06.000</td>\n",
       "      <td>GBC bank</td>\n",
       "      <td>hensy.ai@gmail.com</td>\n",
       "      <td>Owner</td>\n",
       "      <td>2024-01-30 23:29:41.000</td>\n",
       "      <td>Transportation</td>\n",
       "      <td>1</td>\n",
       "      <td>0</td>\n",
       "      <td>0</td>\n",
       "      <td>0</td>\n",
       "    </tr>\n",
       "    <tr>\n",
       "      <th>2</th>\n",
       "      <td>ecpb1</td>\n",
       "      <td>832139937</td>\n",
       "      <td>2024-01-22</td>\n",
       "      <td>2024-01-27 17:15:06.000</td>\n",
       "      <td>ATTA MILLS</td>\n",
       "      <td>arhinm220@gmail.com</td>\n",
       "      <td>DRIVER</td>\n",
       "      <td>2025-02-06 11:16:37.000</td>\n",
       "      <td>Transportation</td>\n",
       "      <td>1</td>\n",
       "      <td>0</td>\n",
       "      <td>1</td>\n",
       "      <td>0</td>\n",
       "    </tr>\n",
       "    <tr>\n",
       "      <th>3</th>\n",
       "      <td>ecy1p</td>\n",
       "      <td>279135133</td>\n",
       "      <td>2024-03-04</td>\n",
       "      <td>2024-03-05 21:10:31.000</td>\n",
       "      <td>old karaga street</td>\n",
       "      <td>NaN</td>\n",
       "      <td>accountant</td>\n",
       "      <td>2024-03-05 21:21:50.000</td>\n",
       "      <td>Healthcare</td>\n",
       "      <td>1</td>\n",
       "      <td>0</td>\n",
       "      <td>0</td>\n",
       "      <td>0</td>\n",
       "    </tr>\n",
       "    <tr>\n",
       "      <th>4</th>\n",
       "      <td>ebzze</td>\n",
       "      <td>368413062</td>\n",
       "      <td>2024-03-04</td>\n",
       "      <td>2024-03-06 19:42:23.000</td>\n",
       "      <td>Abebrese Street</td>\n",
       "      <td>dadzitheodora77@gmail.com</td>\n",
       "      <td>nurse</td>\n",
       "      <td>2024-03-19 08:52:37.000</td>\n",
       "      <td>Healthcare</td>\n",
       "      <td>1</td>\n",
       "      <td>0</td>\n",
       "      <td>0</td>\n",
       "      <td>0</td>\n",
       "    </tr>\n",
       "  </tbody>\n",
       "</table>\n",
       "</div>"
      ],
      "text/plain": [
       "    HASH  CLIENT_ID SURVEY_WEEK              SURVEY_DATE            ADDRESS  \\\n",
       "0  ecpb0  178484003  2024-02-05  2024-02-05 09:36:39.000       Peace church   \n",
       "1    NaN  844806159  2024-01-29  2024-01-30 23:10:06.000           GBC bank   \n",
       "2  ecpb1  832139937  2024-01-22  2024-01-27 17:15:06.000         ATTA MILLS   \n",
       "3  ecy1p  279135133  2024-03-04  2024-03-05 21:10:31.000  old karaga street   \n",
       "4  ebzze  368413062  2024-03-04  2024-03-06 19:42:23.000    Abebrese Street   \n",
       "\n",
       "                       EMAIL     POSITION                DISB_DATE  \\\n",
       "0    acquahmary574@gmail.com   Packaging   2024-02-05 09:40:44.000   \n",
       "1         hensy.ai@gmail.com        Owner  2024-01-30 23:29:41.000   \n",
       "2        arhinm220@gmail.com       DRIVER  2025-02-06 11:16:37.000   \n",
       "3                        NaN  accountant   2024-03-05 21:21:50.000   \n",
       "4  dadzitheodora77@gmail.com        nurse  2024-03-19 08:52:37.000   \n",
       "\n",
       "         INDUSTRY  DISBURSED  DR1  DEFAULTED  PTFRAUD  \n",
       "0   Food Industry          1    0          0        0  \n",
       "1  Transportation          1    0          0        0  \n",
       "2  Transportation          1    0          1        0  \n",
       "3      Healthcare          1    0          0        0  \n",
       "4      Healthcare          1    0          0        0  "
      ]
     },
     "execution_count": 2,
     "metadata": {},
     "output_type": "execute_result"
    }
   ],
   "source": [
    "data = pd.read_csv('/Users/fido_josephine/Documents/New-Fraud-Rules/Data/surveys (1).csv')\n",
    "data.head()"
   ]
  },
  {
   "cell_type": "code",
   "execution_count": 3,
   "metadata": {},
   "outputs": [
    {
     "name": "stdout",
     "output_type": "stream",
     "text": [
      "<class 'pandas.core.frame.DataFrame'>\n",
      "RangeIndex: 380461 entries, 0 to 380460\n",
      "Data columns (total 14 columns):\n",
      " #   Column        Non-Null Count   Dtype         \n",
      "---  ------        --------------   -----         \n",
      " 0   HASH          354248 non-null  object        \n",
      " 1   CLIENT_ID     380461 non-null  int64         \n",
      " 2   SURVEY_WEEK   380461 non-null  object        \n",
      " 3   SURVEY_DATE   380461 non-null  datetime64[ns]\n",
      " 4   ADDRESS       380249 non-null  object        \n",
      " 5   EMAIL         269941 non-null  object        \n",
      " 6   POSITION      354927 non-null  object        \n",
      " 7   DISB_DATE     177915 non-null  object        \n",
      " 8   INDUSTRY      354961 non-null  object        \n",
      " 9   DISBURSED     380461 non-null  int64         \n",
      " 10  DR1           380461 non-null  int64         \n",
      " 11  DEFAULTED     380461 non-null  int64         \n",
      " 12  PTFRAUD       380461 non-null  int64         \n",
      " 13  SURVEY_MONTH  380461 non-null  period[M]     \n",
      "dtypes: datetime64[ns](1), int64(5), object(7), period[M](1)\n",
      "memory usage: 40.6+ MB\n"
     ]
    }
   ],
   "source": [
    "\n",
    "data['SURVEY_DATE'] = pd.to_datetime(data['SURVEY_DATE'])\n",
    "\n",
    "# Convert weekly dates into biweekly periods\n",
    "data['SURVEY_MONTH'] = data['SURVEY_DATE'].dt.to_period(\"M\")\n",
    "data.info()"
   ]
  },
  {
   "cell_type": "code",
   "execution_count": 4,
   "metadata": {},
   "outputs": [
    {
     "data": {
      "text/html": [
       "<div>\n",
       "<style scoped>\n",
       "    .dataframe tbody tr th:only-of-type {\n",
       "        vertical-align: middle;\n",
       "    }\n",
       "\n",
       "    .dataframe tbody tr th {\n",
       "        vertical-align: top;\n",
       "    }\n",
       "\n",
       "    .dataframe thead th {\n",
       "        text-align: right;\n",
       "    }\n",
       "</style>\n",
       "<table border=\"1\" class=\"dataframe\">\n",
       "  <thead>\n",
       "    <tr style=\"text-align: right;\">\n",
       "      <th></th>\n",
       "      <th>HASH</th>\n",
       "      <th>CLIENT_ID</th>\n",
       "      <th>SURVEY_WEEK</th>\n",
       "      <th>SURVEY_DATE</th>\n",
       "      <th>ADDRESS</th>\n",
       "      <th>EMAIL</th>\n",
       "      <th>POSITION</th>\n",
       "      <th>DISB_DATE</th>\n",
       "      <th>INDUSTRY</th>\n",
       "      <th>DISBURSED</th>\n",
       "      <th>DR1</th>\n",
       "      <th>DEFAULTED</th>\n",
       "      <th>PTFRAUD</th>\n",
       "      <th>SURVEY_MONTH</th>\n",
       "    </tr>\n",
       "  </thead>\n",
       "  <tbody>\n",
       "    <tr>\n",
       "      <th>0</th>\n",
       "      <td>ecpb0</td>\n",
       "      <td>178484003</td>\n",
       "      <td>2024-02-05</td>\n",
       "      <td>2024-02-05 09:36:39</td>\n",
       "      <td>Peace church</td>\n",
       "      <td>acquahmary574@gmail.com</td>\n",
       "      <td>Packaging</td>\n",
       "      <td>2024-02-05 09:40:44.000</td>\n",
       "      <td>Food Industry</td>\n",
       "      <td>1</td>\n",
       "      <td>0</td>\n",
       "      <td>0</td>\n",
       "      <td>0</td>\n",
       "      <td>2024-02</td>\n",
       "    </tr>\n",
       "    <tr>\n",
       "      <th>1</th>\n",
       "      <td>NaN</td>\n",
       "      <td>844806159</td>\n",
       "      <td>2024-01-29</td>\n",
       "      <td>2024-01-30 23:10:06</td>\n",
       "      <td>GBC bank</td>\n",
       "      <td>hensy.ai@gmail.com</td>\n",
       "      <td>Owner</td>\n",
       "      <td>2024-01-30 23:29:41.000</td>\n",
       "      <td>Transportation</td>\n",
       "      <td>1</td>\n",
       "      <td>0</td>\n",
       "      <td>0</td>\n",
       "      <td>0</td>\n",
       "      <td>2024-01</td>\n",
       "    </tr>\n",
       "    <tr>\n",
       "      <th>2</th>\n",
       "      <td>ecpb1</td>\n",
       "      <td>832139937</td>\n",
       "      <td>2024-01-22</td>\n",
       "      <td>2024-01-27 17:15:06</td>\n",
       "      <td>ATTA MILLS</td>\n",
       "      <td>arhinm220@gmail.com</td>\n",
       "      <td>DRIVER</td>\n",
       "      <td>2025-02-06 11:16:37.000</td>\n",
       "      <td>Transportation</td>\n",
       "      <td>1</td>\n",
       "      <td>0</td>\n",
       "      <td>1</td>\n",
       "      <td>0</td>\n",
       "      <td>2024-01</td>\n",
       "    </tr>\n",
       "    <tr>\n",
       "      <th>3</th>\n",
       "      <td>ecy1p</td>\n",
       "      <td>279135133</td>\n",
       "      <td>2024-03-04</td>\n",
       "      <td>2024-03-05 21:10:31</td>\n",
       "      <td>old karaga street</td>\n",
       "      <td>NaN</td>\n",
       "      <td>accountant</td>\n",
       "      <td>2024-03-05 21:21:50.000</td>\n",
       "      <td>Healthcare</td>\n",
       "      <td>1</td>\n",
       "      <td>0</td>\n",
       "      <td>0</td>\n",
       "      <td>0</td>\n",
       "      <td>2024-03</td>\n",
       "    </tr>\n",
       "    <tr>\n",
       "      <th>4</th>\n",
       "      <td>ebzze</td>\n",
       "      <td>368413062</td>\n",
       "      <td>2024-03-04</td>\n",
       "      <td>2024-03-06 19:42:23</td>\n",
       "      <td>Abebrese Street</td>\n",
       "      <td>dadzitheodora77@gmail.com</td>\n",
       "      <td>nurse</td>\n",
       "      <td>2024-03-19 08:52:37.000</td>\n",
       "      <td>Healthcare</td>\n",
       "      <td>1</td>\n",
       "      <td>0</td>\n",
       "      <td>0</td>\n",
       "      <td>0</td>\n",
       "      <td>2024-03</td>\n",
       "    </tr>\n",
       "  </tbody>\n",
       "</table>\n",
       "</div>"
      ],
      "text/plain": [
       "    HASH  CLIENT_ID SURVEY_WEEK         SURVEY_DATE            ADDRESS  \\\n",
       "0  ecpb0  178484003  2024-02-05 2024-02-05 09:36:39       Peace church   \n",
       "1    NaN  844806159  2024-01-29 2024-01-30 23:10:06           GBC bank   \n",
       "2  ecpb1  832139937  2024-01-22 2024-01-27 17:15:06         ATTA MILLS   \n",
       "3  ecy1p  279135133  2024-03-04 2024-03-05 21:10:31  old karaga street   \n",
       "4  ebzze  368413062  2024-03-04 2024-03-06 19:42:23    Abebrese Street   \n",
       "\n",
       "                       EMAIL     POSITION                DISB_DATE  \\\n",
       "0    acquahmary574@gmail.com   Packaging   2024-02-05 09:40:44.000   \n",
       "1         hensy.ai@gmail.com        Owner  2024-01-30 23:29:41.000   \n",
       "2        arhinm220@gmail.com       DRIVER  2025-02-06 11:16:37.000   \n",
       "3                        NaN  accountant   2024-03-05 21:21:50.000   \n",
       "4  dadzitheodora77@gmail.com        nurse  2024-03-19 08:52:37.000   \n",
       "\n",
       "         INDUSTRY  DISBURSED  DR1  DEFAULTED  PTFRAUD SURVEY_MONTH  \n",
       "0   Food Industry          1    0          0        0      2024-02  \n",
       "1  Transportation          1    0          0        0      2024-01  \n",
       "2  Transportation          1    0          1        0      2024-01  \n",
       "3      Healthcare          1    0          0        0      2024-03  \n",
       "4      Healthcare          1    0          0        0      2024-03  "
      ]
     },
     "execution_count": 4,
     "metadata": {},
     "output_type": "execute_result"
    }
   ],
   "source": [
    "data.head()"
   ]
  },
  {
   "cell_type": "code",
   "execution_count": 5,
   "metadata": {},
   "outputs": [],
   "source": [
    "data['ADDRESS'] = data['ADDRESS'].str.lower()"
   ]
  },
  {
   "cell_type": "code",
   "execution_count": 6,
   "metadata": {},
   "outputs": [
    {
     "data": {
      "text/plain": [
       "np.int64(33954)"
      ]
     },
     "execution_count": 6,
     "metadata": {},
     "output_type": "execute_result"
    }
   ],
   "source": [
    "data['DR1'].sum()"
   ]
  },
  {
   "cell_type": "code",
   "execution_count": 7,
   "metadata": {},
   "outputs": [
    {
     "data": {
      "text/plain": [
       "np.int64(3329)"
      ]
     },
     "execution_count": 7,
     "metadata": {},
     "output_type": "execute_result"
    }
   ],
   "source": [
    "data['DEFAULTED'].sum()"
   ]
  },
  {
   "cell_type": "code",
   "execution_count": 8,
   "metadata": {},
   "outputs": [
    {
     "name": "stdout",
     "output_type": "stream",
     "text": [
      "<class 'pandas.core.frame.DataFrame'>\n",
      "RangeIndex: 380461 entries, 0 to 380460\n",
      "Data columns (total 14 columns):\n",
      " #   Column        Non-Null Count   Dtype         \n",
      "---  ------        --------------   -----         \n",
      " 0   HASH          354248 non-null  object        \n",
      " 1   CLIENT_ID     380461 non-null  int64         \n",
      " 2   SURVEY_WEEK   380461 non-null  object        \n",
      " 3   SURVEY_DATE   380461 non-null  datetime64[ns]\n",
      " 4   ADDRESS       380249 non-null  object        \n",
      " 5   EMAIL         269941 non-null  object        \n",
      " 6   POSITION      354927 non-null  object        \n",
      " 7   DISB_DATE     177915 non-null  object        \n",
      " 8   INDUSTRY      354961 non-null  object        \n",
      " 9   DISBURSED     380461 non-null  int64         \n",
      " 10  DR1           380461 non-null  int64         \n",
      " 11  DEFAULTED     380461 non-null  int64         \n",
      " 12  PTFRAUD       380461 non-null  int64         \n",
      " 13  SURVEY_MONTH  380461 non-null  period[M]     \n",
      "dtypes: datetime64[ns](1), int64(5), object(7), period[M](1)\n",
      "memory usage: 40.6+ MB\n"
     ]
    }
   ],
   "source": [
    "data.info()"
   ]
  },
  {
   "cell_type": "code",
   "execution_count": 9,
   "metadata": {},
   "outputs": [
    {
     "data": {
      "text/plain": [
       "0         2024-02-05\n",
       "1         2024-01-29\n",
       "2         2024-01-22\n",
       "3         2024-03-04\n",
       "4         2024-03-04\n",
       "             ...    \n",
       "380456    2024-09-02\n",
       "380457    2024-10-07\n",
       "380458    2024-09-30\n",
       "380459    2024-09-23\n",
       "380460    2024-11-11\n",
       "Name: SURVEY_WEEK, Length: 380461, dtype: object"
      ]
     },
     "execution_count": 9,
     "metadata": {},
     "output_type": "execute_result"
    }
   ],
   "source": [
    "data.SURVEY_WEEK"
   ]
  },
  {
   "cell_type": "code",
   "execution_count": 10,
   "metadata": {},
   "outputs": [],
   "source": [
    "import sys\n",
    "sys.path.append('/Users/fido_josephine/Documents/New-Fraud-Rules/fraud')\n",
    "from modules.distance_finder import  lev_dist2,  lev_dist4"
   ]
  },
  {
   "cell_type": "code",
   "execution_count": 11,
   "metadata": {},
   "outputs": [],
   "source": [
    "from Levenshtein import distance as lev_distance"
   ]
  },
  {
   "cell_type": "code",
   "execution_count": 12,
   "metadata": {},
   "outputs": [],
   "source": [
    "# def lev_dist1(df, hash, week, address):\n",
    "#     rows = []\n",
    "\n",
    "#     # Step 1: Group addresses by HASH and SURVEY_WEEK\n",
    "#     grouped = df.groupby([hash, week])[address].apply(list).reset_index()\n",
    "#     return grouped\n",
    "# add_dup = lev_dist3(data=data, lev_distance = lev_distance)"
   ]
  },
  {
   "cell_type": "code",
   "execution_count": 13,
   "metadata": {},
   "outputs": [],
   "source": [
    "# print(add_dup)"
   ]
  },
  {
   "cell_type": "code",
   "execution_count": 14,
   "metadata": {},
   "outputs": [],
   "source": [
    "bool_columns = ['DISBURSED', 'DR1']\n",
    "result = lev_dist4(data=data, lev_distance = lev_distance,period = 'SURVEY_MONTH' , bool_columns = bool_columns)"
   ]
  },
  {
   "cell_type": "code",
   "execution_count": 15,
   "metadata": {},
   "outputs": [
    {
     "name": "stdout",
     "output_type": "stream",
     "text": [
      "         HASH SURVEY_MONTH                               ADDRESS  COUNT  \\\n",
      "0       6gg6h      2024-06                         seikwa box 94      1   \n",
      "1       6gg7r      2024-09                          abura clinic      1   \n",
      "2       6vmj3      2024-01                       adenta fafaraha      1   \n",
      "3       7ff38      2024-11                              apple st      1   \n",
      "4       7hfq5      2024-11                       kpone katamanso      1   \n",
      "...       ...          ...                                   ...    ...   \n",
      "319327  ww0wp      2024-04                        salvation army      1   \n",
      "319328  xcnyk      2024-07  mp building,the name of mp is mutaka      1   \n",
      "319329  xn0wd      2024-08         adjacent joduro international      1   \n",
      "319330  xn775      2024-02                        nii dam street      1   \n",
      "319331  y2s08      2024-02                  sda hospital kwadaso      1   \n",
      "\n",
      "        DISBURSED  DR1  \n",
      "0               0    0  \n",
      "1               0    0  \n",
      "2               0    0  \n",
      "3               0    0  \n",
      "4               0    0  \n",
      "...           ...  ...  \n",
      "319327          0    0  \n",
      "319328          0    0  \n",
      "319329          0    0  \n",
      "319330          0    0  \n",
      "319331          0    0  \n",
      "\n",
      "[319332 rows x 6 columns]\n"
     ]
    }
   ],
   "source": [
    "print(result)"
   ]
  },
  {
   "cell_type": "code",
   "execution_count": null,
   "metadata": {},
   "outputs": [],
   "source": []
  },
  {
   "cell_type": "markdown",
   "metadata": {},
   "source": [
    "## BiWeekly Aggregation"
   ]
  },
  {
   "cell_type": "code",
   "execution_count": 16,
   "metadata": {},
   "outputs": [],
   "source": [
    "df = data.copy()\n",
    "df['SURVEY_WEEK'] = pd.to_datetime(df['SURVEY_WEEK'])\n",
    "\n",
    "# Convert weekly dates into biweekly periods\n",
    "df['biweekly_period'] = df['SURVEY_WEEK'].dt.to_period(\"2W\")"
   ]
  },
  {
   "cell_type": "code",
   "execution_count": 17,
   "metadata": {},
   "outputs": [],
   "source": [
    "result2 = lev_dist4(data=df, lev_distance = lev_distance,period='SURVEY_MONTH',   bool_columns = bool_columns)"
   ]
  },
  {
   "cell_type": "code",
   "execution_count": 18,
   "metadata": {},
   "outputs": [
    {
     "name": "stdout",
     "output_type": "stream",
     "text": [
      "         HASH SURVEY_MONTH                               ADDRESS  COUNT  \\\n",
      "0       6gg6h      2024-06                         seikwa box 94      1   \n",
      "1       6gg7r      2024-09                          abura clinic      1   \n",
      "2       6vmj3      2024-01                       adenta fafaraha      1   \n",
      "3       7ff38      2024-11                              apple st      1   \n",
      "4       7hfq5      2024-11                       kpone katamanso      1   \n",
      "...       ...          ...                                   ...    ...   \n",
      "319327  ww0wp      2024-04                        salvation army      1   \n",
      "319328  xcnyk      2024-07  mp building,the name of mp is mutaka      1   \n",
      "319329  xn0wd      2024-08         adjacent joduro international      1   \n",
      "319330  xn775      2024-02                        nii dam street      1   \n",
      "319331  y2s08      2024-02                  sda hospital kwadaso      1   \n",
      "\n",
      "        DISBURSED  DR1  \n",
      "0               0    0  \n",
      "1               0    0  \n",
      "2               0    0  \n",
      "3               0    0  \n",
      "4               0    0  \n",
      "...           ...  ...  \n",
      "319327          0    0  \n",
      "319328          0    0  \n",
      "319329          0    0  \n",
      "319330          0    0  \n",
      "319331          0    0  \n",
      "\n",
      "[319332 rows x 6 columns]\n"
     ]
    },
    {
     "data": {
      "text/html": [
       "<div>\n",
       "<style scoped>\n",
       "    .dataframe tbody tr th:only-of-type {\n",
       "        vertical-align: middle;\n",
       "    }\n",
       "\n",
       "    .dataframe tbody tr th {\n",
       "        vertical-align: top;\n",
       "    }\n",
       "\n",
       "    .dataframe thead th {\n",
       "        text-align: right;\n",
       "    }\n",
       "</style>\n",
       "<table border=\"1\" class=\"dataframe\">\n",
       "  <thead>\n",
       "    <tr style=\"text-align: right;\">\n",
       "      <th></th>\n",
       "      <th>HASH</th>\n",
       "      <th>SURVEY_MONTH</th>\n",
       "      <th>ADDRESS</th>\n",
       "      <th>COUNT</th>\n",
       "      <th>DISBURSED</th>\n",
       "      <th>DR1</th>\n",
       "    </tr>\n",
       "  </thead>\n",
       "  <tbody>\n",
       "    <tr>\n",
       "      <th>0</th>\n",
       "      <td>6gg6h</td>\n",
       "      <td>2024-06</td>\n",
       "      <td>seikwa box 94</td>\n",
       "      <td>1</td>\n",
       "      <td>0</td>\n",
       "      <td>0</td>\n",
       "    </tr>\n",
       "    <tr>\n",
       "      <th>1</th>\n",
       "      <td>6gg7r</td>\n",
       "      <td>2024-09</td>\n",
       "      <td>abura clinic</td>\n",
       "      <td>1</td>\n",
       "      <td>0</td>\n",
       "      <td>0</td>\n",
       "    </tr>\n",
       "    <tr>\n",
       "      <th>2</th>\n",
       "      <td>6vmj3</td>\n",
       "      <td>2024-01</td>\n",
       "      <td>adenta fafaraha</td>\n",
       "      <td>1</td>\n",
       "      <td>0</td>\n",
       "      <td>0</td>\n",
       "    </tr>\n",
       "    <tr>\n",
       "      <th>3</th>\n",
       "      <td>7ff38</td>\n",
       "      <td>2024-11</td>\n",
       "      <td>apple st</td>\n",
       "      <td>1</td>\n",
       "      <td>0</td>\n",
       "      <td>0</td>\n",
       "    </tr>\n",
       "    <tr>\n",
       "      <th>4</th>\n",
       "      <td>7hfq5</td>\n",
       "      <td>2024-11</td>\n",
       "      <td>kpone katamanso</td>\n",
       "      <td>1</td>\n",
       "      <td>0</td>\n",
       "      <td>0</td>\n",
       "    </tr>\n",
       "  </tbody>\n",
       "</table>\n",
       "</div>"
      ],
      "text/plain": [
       "    HASH SURVEY_MONTH          ADDRESS  COUNT  DISBURSED  DR1\n",
       "0  6gg6h      2024-06    seikwa box 94      1          0    0\n",
       "1  6gg7r      2024-09     abura clinic      1          0    0\n",
       "2  6vmj3      2024-01  adenta fafaraha      1          0    0\n",
       "3  7ff38      2024-11         apple st      1          0    0\n",
       "4  7hfq5      2024-11  kpone katamanso      1          0    0"
      ]
     },
     "execution_count": 18,
     "metadata": {},
     "output_type": "execute_result"
    }
   ],
   "source": [
    "print(result2)\n",
    "result2.head()"
   ]
  },
  {
   "cell_type": "code",
   "execution_count": 19,
   "metadata": {},
   "outputs": [
    {
     "data": {
      "text/plain": [
       "np.int64(27)"
      ]
     },
     "execution_count": 19,
     "metadata": {},
     "output_type": "execute_result"
    }
   ],
   "source": [
    "result2['COUNT'].max()"
   ]
  },
  {
   "cell_type": "code",
   "execution_count": 20,
   "metadata": {},
   "outputs": [
    {
     "data": {
      "text/plain": [
       "np.int64(31899)"
      ]
     },
     "execution_count": 20,
     "metadata": {},
     "output_type": "execute_result"
    }
   ],
   "source": [
    "result2['DR1'].sum()"
   ]
  },
  {
   "cell_type": "code",
   "execution_count": 21,
   "metadata": {},
   "outputs": [
    {
     "name": "stderr",
     "output_type": "stream",
     "text": [
      "/var/folders/br/rqk8kpt50q1_dkr0c2p_53lh0000gp/T/ipykernel_34792/1959181543.py:1: FutureWarning: The provided callable <built-in function sum> is currently using SeriesGroupBy.sum. In a future version of pandas, the provided callable will be used directly. To keep current behavior pass the string \"sum\" instead.\n",
      "  output = result2.groupby('COUNT').agg(\n"
     ]
    },
    {
     "data": {
      "text/plain": [
       "np.int64(31899)"
      ]
     },
     "execution_count": 21,
     "metadata": {},
     "output_type": "execute_result"
    }
   ],
   "source": [
    "output = result2.groupby('COUNT').agg(\n",
    "    nloans = ('DISBURSED', sum),\n",
    "    ndefaults = ('DR1', sum)\n",
    ").reset_index()\n",
    "output['ndefaults'].sum()"
   ]
  },
  {
   "cell_type": "code",
   "execution_count": 22,
   "metadata": {},
   "outputs": [
    {
     "data": {
      "text/html": [
       "<div>\n",
       "<style scoped>\n",
       "    .dataframe tbody tr th:only-of-type {\n",
       "        vertical-align: middle;\n",
       "    }\n",
       "\n",
       "    .dataframe tbody tr th {\n",
       "        vertical-align: top;\n",
       "    }\n",
       "\n",
       "    .dataframe thead th {\n",
       "        text-align: right;\n",
       "    }\n",
       "</style>\n",
       "<table border=\"1\" class=\"dataframe\">\n",
       "  <thead>\n",
       "    <tr style=\"text-align: right;\">\n",
       "      <th></th>\n",
       "      <th>COUNT</th>\n",
       "      <th>nloans</th>\n",
       "      <th>ndefaults</th>\n",
       "    </tr>\n",
       "  </thead>\n",
       "  <tbody>\n",
       "    <tr>\n",
       "      <th>0</th>\n",
       "      <td>1</td>\n",
       "      <td>137869</td>\n",
       "      <td>25537</td>\n",
       "    </tr>\n",
       "    <tr>\n",
       "      <th>1</th>\n",
       "      <td>2</td>\n",
       "      <td>16999</td>\n",
       "      <td>3519</td>\n",
       "    </tr>\n",
       "    <tr>\n",
       "      <th>2</th>\n",
       "      <td>3</td>\n",
       "      <td>5590</td>\n",
       "      <td>1239</td>\n",
       "    </tr>\n",
       "    <tr>\n",
       "      <th>3</th>\n",
       "      <td>4</td>\n",
       "      <td>2600</td>\n",
       "      <td>567</td>\n",
       "    </tr>\n",
       "    <tr>\n",
       "      <th>4</th>\n",
       "      <td>5</td>\n",
       "      <td>1451</td>\n",
       "      <td>373</td>\n",
       "    </tr>\n",
       "    <tr>\n",
       "      <th>5</th>\n",
       "      <td>6</td>\n",
       "      <td>761</td>\n",
       "      <td>169</td>\n",
       "    </tr>\n",
       "    <tr>\n",
       "      <th>6</th>\n",
       "      <td>7</td>\n",
       "      <td>568</td>\n",
       "      <td>153</td>\n",
       "    </tr>\n",
       "    <tr>\n",
       "      <th>7</th>\n",
       "      <td>8</td>\n",
       "      <td>280</td>\n",
       "      <td>80</td>\n",
       "    </tr>\n",
       "    <tr>\n",
       "      <th>8</th>\n",
       "      <td>9</td>\n",
       "      <td>190</td>\n",
       "      <td>49</td>\n",
       "    </tr>\n",
       "    <tr>\n",
       "      <th>9</th>\n",
       "      <td>10</td>\n",
       "      <td>171</td>\n",
       "      <td>38</td>\n",
       "    </tr>\n",
       "    <tr>\n",
       "      <th>10</th>\n",
       "      <td>11</td>\n",
       "      <td>111</td>\n",
       "      <td>33</td>\n",
       "    </tr>\n",
       "    <tr>\n",
       "      <th>11</th>\n",
       "      <td>12</td>\n",
       "      <td>123</td>\n",
       "      <td>28</td>\n",
       "    </tr>\n",
       "    <tr>\n",
       "      <th>12</th>\n",
       "      <td>13</td>\n",
       "      <td>81</td>\n",
       "      <td>28</td>\n",
       "    </tr>\n",
       "    <tr>\n",
       "      <th>13</th>\n",
       "      <td>14</td>\n",
       "      <td>41</td>\n",
       "      <td>15</td>\n",
       "    </tr>\n",
       "    <tr>\n",
       "      <th>14</th>\n",
       "      <td>15</td>\n",
       "      <td>65</td>\n",
       "      <td>9</td>\n",
       "    </tr>\n",
       "    <tr>\n",
       "      <th>15</th>\n",
       "      <td>16</td>\n",
       "      <td>30</td>\n",
       "      <td>5</td>\n",
       "    </tr>\n",
       "    <tr>\n",
       "      <th>16</th>\n",
       "      <td>17</td>\n",
       "      <td>47</td>\n",
       "      <td>15</td>\n",
       "    </tr>\n",
       "    <tr>\n",
       "      <th>17</th>\n",
       "      <td>18</td>\n",
       "      <td>33</td>\n",
       "      <td>4</td>\n",
       "    </tr>\n",
       "    <tr>\n",
       "      <th>18</th>\n",
       "      <td>19</td>\n",
       "      <td>39</td>\n",
       "      <td>15</td>\n",
       "    </tr>\n",
       "    <tr>\n",
       "      <th>19</th>\n",
       "      <td>20</td>\n",
       "      <td>33</td>\n",
       "      <td>4</td>\n",
       "    </tr>\n",
       "    <tr>\n",
       "      <th>20</th>\n",
       "      <td>21</td>\n",
       "      <td>22</td>\n",
       "      <td>4</td>\n",
       "    </tr>\n",
       "    <tr>\n",
       "      <th>21</th>\n",
       "      <td>23</td>\n",
       "      <td>47</td>\n",
       "      <td>14</td>\n",
       "    </tr>\n",
       "    <tr>\n",
       "      <th>22</th>\n",
       "      <td>24</td>\n",
       "      <td>15</td>\n",
       "      <td>0</td>\n",
       "    </tr>\n",
       "    <tr>\n",
       "      <th>23</th>\n",
       "      <td>27</td>\n",
       "      <td>12</td>\n",
       "      <td>1</td>\n",
       "    </tr>\n",
       "  </tbody>\n",
       "</table>\n",
       "</div>"
      ],
      "text/plain": [
       "    COUNT  nloans  ndefaults\n",
       "0       1  137869      25537\n",
       "1       2   16999       3519\n",
       "2       3    5590       1239\n",
       "3       4    2600        567\n",
       "4       5    1451        373\n",
       "5       6     761        169\n",
       "6       7     568        153\n",
       "7       8     280         80\n",
       "8       9     190         49\n",
       "9      10     171         38\n",
       "10     11     111         33\n",
       "11     12     123         28\n",
       "12     13      81         28\n",
       "13     14      41         15\n",
       "14     15      65          9\n",
       "15     16      30          5\n",
       "16     17      47         15\n",
       "17     18      33          4\n",
       "18     19      39         15\n",
       "19     20      33          4\n",
       "20     21      22          4\n",
       "21     23      47         14\n",
       "22     24      15          0\n",
       "23     27      12          1"
      ]
     },
     "execution_count": 22,
     "metadata": {},
     "output_type": "execute_result"
    }
   ],
   "source": [
    "output"
   ]
  },
  {
   "cell_type": "code",
   "execution_count": 23,
   "metadata": {},
   "outputs": [],
   "source": [
    "from modules.group_dr import add_chart, add_bplots"
   ]
  },
  {
   "cell_type": "code",
   "execution_count": 24,
   "metadata": {},
   "outputs": [
    {
     "name": "stderr",
     "output_type": "stream",
     "text": [
      "/Users/fido_josephine/Documents/New-Fraud-Rules/fraud/modules/group_dr.py:16: FutureWarning: The provided callable <built-in function sum> is currently using SeriesGroupBy.sum. In a future version of pandas, the provided callable will be used directly. To keep current behavior pass the string \"sum\" instead.\n",
      "  summary = summary.groupby(['COUNT']).agg(\n"
     ]
    },
    {
     "data": {
      "image/png": "[encoded data removed]",
      "text/plain": [
       "<Figure size 1000x400 with 2 Axes>"
      ]
     },
     "metadata": {},
     "output_type": "display_data"
    }
   ],
   "source": [
    "plot1 = add_chart(data=result2, title= 'Monthly Address Duplication')"
   ]
  },
  {
   "cell_type": "code",
   "execution_count": 25,
   "metadata": {},
   "outputs": [],
   "source": [
    "from modules.distance_finder import  lev_dist_with_fields"
   ]
  },
  {
   "cell_type": "code",
   "execution_count": 26,
   "metadata": {},
   "outputs": [],
   "source": [
    "df['POSITION'] = df['POSITION'].str.lower()"
   ]
  },
  {
   "cell_type": "code",
   "execution_count": 27,
   "metadata": {},
   "outputs": [],
   "source": [
    "grouped = lev_dist_with_fields(data=df, lev_distance = lev_distance,period = 'SURVEY_MONTH' , bool_columns = bool_columns, text_columns=None)"
   ]
  },
  {
   "cell_type": "code",
   "execution_count": 28,
   "metadata": {},
   "outputs": [
    {
     "data": {
      "text/html": [
       "<div>\n",
       "<style scoped>\n",
       "    .dataframe tbody tr th:only-of-type {\n",
       "        vertical-align: middle;\n",
       "    }\n",
       "\n",
       "    .dataframe tbody tr th {\n",
       "        vertical-align: top;\n",
       "    }\n",
       "\n",
       "    .dataframe thead th {\n",
       "        text-align: right;\n",
       "    }\n",
       "</style>\n",
       "<table border=\"1\" class=\"dataframe\">\n",
       "  <thead>\n",
       "    <tr style=\"text-align: right;\">\n",
       "      <th></th>\n",
       "      <th>HASH</th>\n",
       "      <th>SURVEY_MONTH</th>\n",
       "      <th>ADDRESS</th>\n",
       "      <th>INDUSTRY</th>\n",
       "      <th>POSITION</th>\n",
       "      <th>COUNT</th>\n",
       "      <th>DISBURSED</th>\n",
       "      <th>DR1</th>\n",
       "    </tr>\n",
       "  </thead>\n",
       "  <tbody>\n",
       "    <tr>\n",
       "      <th>0</th>\n",
       "      <td>6gg6h</td>\n",
       "      <td>2024-06</td>\n",
       "      <td>seikwa box 94</td>\n",
       "      <td>Construction</td>\n",
       "      <td>forman</td>\n",
       "      <td>1</td>\n",
       "      <td>0</td>\n",
       "      <td>0</td>\n",
       "    </tr>\n",
       "    <tr>\n",
       "      <th>1</th>\n",
       "      <td>6gg7r</td>\n",
       "      <td>2024-09</td>\n",
       "      <td>abura clinic</td>\n",
       "      <td>Legal</td>\n",
       "      <td>monitoring and evaluation officer</td>\n",
       "      <td>1</td>\n",
       "      <td>0</td>\n",
       "      <td>0</td>\n",
       "    </tr>\n",
       "    <tr>\n",
       "      <th>2</th>\n",
       "      <td>6vmj3</td>\n",
       "      <td>2024-01</td>\n",
       "      <td>adenta fafaraha</td>\n",
       "      <td>UNKNOWN</td>\n",
       "      <td>UNKNOWN</td>\n",
       "      <td>1</td>\n",
       "      <td>0</td>\n",
       "      <td>0</td>\n",
       "    </tr>\n",
       "    <tr>\n",
       "      <th>3</th>\n",
       "      <td>7ff38</td>\n",
       "      <td>2024-11</td>\n",
       "      <td>apple st</td>\n",
       "      <td>Education</td>\n",
       "      <td>im a kente weaver</td>\n",
       "      <td>1</td>\n",
       "      <td>0</td>\n",
       "      <td>0</td>\n",
       "    </tr>\n",
       "    <tr>\n",
       "      <th>4</th>\n",
       "      <td>7hfq5</td>\n",
       "      <td>2024-11</td>\n",
       "      <td>kpone katamanso</td>\n",
       "      <td>Construction</td>\n",
       "      <td>mechanic</td>\n",
       "      <td>1</td>\n",
       "      <td>0</td>\n",
       "      <td>0</td>\n",
       "    </tr>\n",
       "  </tbody>\n",
       "</table>\n",
       "</div>"
      ],
      "text/plain": [
       "    HASH SURVEY_MONTH          ADDRESS      INDUSTRY  \\\n",
       "0  6gg6h      2024-06    seikwa box 94  Construction   \n",
       "1  6gg7r      2024-09     abura clinic         Legal   \n",
       "2  6vmj3      2024-01  adenta fafaraha       UNKNOWN   \n",
       "3  7ff38      2024-11         apple st     Education   \n",
       "4  7hfq5      2024-11  kpone katamanso  Construction   \n",
       "\n",
       "                            POSITION  COUNT  DISBURSED  DR1  \n",
       "0                             forman      1          0    0  \n",
       "1  monitoring and evaluation officer      1          0    0  \n",
       "2                            UNKNOWN      1          0    0  \n",
       "3                  im a kente weaver      1          0    0  \n",
       "4                          mechanic       1          0    0  "
      ]
     },
     "execution_count": 28,
     "metadata": {},
     "output_type": "execute_result"
    }
   ],
   "source": [
    "grouped.head()"
   ]
  },
  {
   "cell_type": "code",
   "execution_count": 29,
   "metadata": {},
   "outputs": [
    {
     "name": "stderr",
     "output_type": "stream",
     "text": [
      "/Users/fido_josephine/Documents/New-Fraud-Rules/fraud/modules/group_dr.py:16: FutureWarning: The provided callable <built-in function sum> is currently using SeriesGroupBy.sum. In a future version of pandas, the provided callable will be used directly. To keep current behavior pass the string \"sum\" instead.\n",
      "  summary = summary.groupby(['COUNT']).agg(\n"
     ]
    },
    {
     "data": {
      "image/png": "[encoded data removed]",
      "text/plain": [
       "<Figure size 1000x400 with 2 Axes>"
      ]
     },
     "metadata": {},
     "output_type": "display_data"
    }
   ],
   "source": [
    "plot2 = add_chart(grouped, 'Monthly Address + Industry + Position Duplication vs DR ')"
   ]
  },
  {
   "cell_type": "markdown",
   "metadata": {},
   "source": [
    "## Aggregations"
   ]
  },
  {
   "cell_type": "code",
   "execution_count": 30,
   "metadata": {},
   "outputs": [],
   "source": [
    "# Address Dups"
   ]
  },
  {
   "cell_type": "code",
   "execution_count": 53,
   "metadata": {},
   "outputs": [
    {
     "name": "stderr",
     "output_type": "stream",
     "text": [
      "/var/folders/br/rqk8kpt50q1_dkr0c2p_53lh0000gp/T/ipykernel_34792/797394082.py:2: FutureWarning: The provided callable <built-in function sum> is currently using SeriesGroupBy.sum. In a future version of pandas, the provided callable will be used directly. To keep current behavior pass the string \"sum\" instead.\n",
      "  aggs = res.groupby('SURVEY_MONTH').agg(\n"
     ]
    },
    {
     "data": {
      "text/html": [
       "<div>\n",
       "<style scoped>\n",
       "    .dataframe tbody tr th:only-of-type {\n",
       "        vertical-align: middle;\n",
       "    }\n",
       "\n",
       "    .dataframe tbody tr th {\n",
       "        vertical-align: top;\n",
       "    }\n",
       "\n",
       "    .dataframe thead th {\n",
       "        text-align: right;\n",
       "    }\n",
       "</style>\n",
       "<table border=\"1\" class=\"dataframe\">\n",
       "  <thead>\n",
       "    <tr style=\"text-align: right;\">\n",
       "      <th></th>\n",
       "      <th>loans</th>\n",
       "      <th>dr</th>\n",
       "    </tr>\n",
       "    <tr>\n",
       "      <th>SURVEY_MONTH</th>\n",
       "      <th></th>\n",
       "      <th></th>\n",
       "    </tr>\n",
       "  </thead>\n",
       "  <tbody>\n",
       "    <tr>\n",
       "      <th>2024-01</th>\n",
       "      <td>103</td>\n",
       "      <td>17</td>\n",
       "    </tr>\n",
       "    <tr>\n",
       "      <th>2024-02</th>\n",
       "      <td>79</td>\n",
       "      <td>16</td>\n",
       "    </tr>\n",
       "    <tr>\n",
       "      <th>2024-03</th>\n",
       "      <td>80</td>\n",
       "      <td>13</td>\n",
       "    </tr>\n",
       "    <tr>\n",
       "      <th>2024-04</th>\n",
       "      <td>108</td>\n",
       "      <td>18</td>\n",
       "    </tr>\n",
       "    <tr>\n",
       "      <th>2024-05</th>\n",
       "      <td>127</td>\n",
       "      <td>26</td>\n",
       "    </tr>\n",
       "    <tr>\n",
       "      <th>2024-06</th>\n",
       "      <td>158</td>\n",
       "      <td>32</td>\n",
       "    </tr>\n",
       "    <tr>\n",
       "      <th>2024-07</th>\n",
       "      <td>257</td>\n",
       "      <td>58</td>\n",
       "    </tr>\n",
       "    <tr>\n",
       "      <th>2024-08</th>\n",
       "      <td>198</td>\n",
       "      <td>68</td>\n",
       "    </tr>\n",
       "    <tr>\n",
       "      <th>2024-09</th>\n",
       "      <td>172</td>\n",
       "      <td>63</td>\n",
       "    </tr>\n",
       "    <tr>\n",
       "      <th>2024-10</th>\n",
       "      <td>265</td>\n",
       "      <td>58</td>\n",
       "    </tr>\n",
       "    <tr>\n",
       "      <th>2024-11</th>\n",
       "      <td>236</td>\n",
       "      <td>78</td>\n",
       "    </tr>\n",
       "    <tr>\n",
       "      <th>2024-12</th>\n",
       "      <td>125</td>\n",
       "      <td>48</td>\n",
       "    </tr>\n",
       "  </tbody>\n",
       "</table>\n",
       "</div>"
      ],
      "text/plain": [
       "              loans  dr\n",
       "SURVEY_MONTH           \n",
       "2024-01         103  17\n",
       "2024-02          79  16\n",
       "2024-03          80  13\n",
       "2024-04         108  18\n",
       "2024-05         127  26\n",
       "2024-06         158  32\n",
       "2024-07         257  58\n",
       "2024-08         198  68\n",
       "2024-09         172  63\n",
       "2024-10         265  58\n",
       "2024-11         236  78\n",
       "2024-12         125  48"
      ]
     },
     "execution_count": 53,
     "metadata": {},
     "output_type": "execute_result"
    }
   ],
   "source": [
    "res = result2[result2['COUNT'] > 6]\n",
    "aggs = res.groupby('SURVEY_MONTH').agg(\n",
    "    loans = ('DISBURSED', sum),\n",
    "    dr = ('DR1', sum)\n",
    ")\n",
    "aggs"
   ]
  },
  {
   "cell_type": "code",
   "execution_count": 54,
   "metadata": {},
   "outputs": [
    {
     "data": {
      "text/plain": [
       "np.float64(159.0)"
      ]
     },
     "execution_count": 54,
     "metadata": {},
     "output_type": "execute_result"
    }
   ],
   "source": [
    "aggs['loans'].mean()"
   ]
  },
  {
   "cell_type": "code",
   "execution_count": 55,
   "metadata": {},
   "outputs": [
    {
     "data": {
      "text/plain": [
       "np.float64(41.25)"
      ]
     },
     "execution_count": 55,
     "metadata": {},
     "output_type": "execute_result"
    }
   ],
   "source": [
    "aggs['dr'].mean()"
   ]
  },
  {
   "cell_type": "code",
   "execution_count": 33,
   "metadata": {},
   "outputs": [
    {
     "data": {
      "text/plain": [
       "np.float64(0.23095044679122664)"
      ]
     },
     "execution_count": 33,
     "metadata": {},
     "output_type": "execute_result"
    }
   ],
   "source": [
    "dr = res['DR1'].sum()\n",
    "dr/loans"
   ]
  },
  {
   "cell_type": "code",
   "execution_count": 68,
   "metadata": {},
   "outputs": [
    {
     "name": "stderr",
     "output_type": "stream",
     "text": [
      "/var/folders/br/rqk8kpt50q1_dkr0c2p_53lh0000gp/T/ipykernel_34792/176116930.py:2: FutureWarning: The provided callable <built-in function sum> is currently using SeriesGroupBy.sum. In a future version of pandas, the provided callable will be used directly. To keep current behavior pass the string \"sum\" instead.\n",
      "  aggs2 = res2.groupby('SURVEY_MONTH').agg(\n"
     ]
    },
    {
     "data": {
      "text/html": [
       "<div>\n",
       "<style scoped>\n",
       "    .dataframe tbody tr th:only-of-type {\n",
       "        vertical-align: middle;\n",
       "    }\n",
       "\n",
       "    .dataframe tbody tr th {\n",
       "        vertical-align: top;\n",
       "    }\n",
       "\n",
       "    .dataframe thead th {\n",
       "        text-align: right;\n",
       "    }\n",
       "</style>\n",
       "<table border=\"1\" class=\"dataframe\">\n",
       "  <thead>\n",
       "    <tr style=\"text-align: right;\">\n",
       "      <th></th>\n",
       "      <th>loans</th>\n",
       "      <th>dr</th>\n",
       "    </tr>\n",
       "    <tr>\n",
       "      <th>SURVEY_MONTH</th>\n",
       "      <th></th>\n",
       "      <th></th>\n",
       "    </tr>\n",
       "  </thead>\n",
       "  <tbody>\n",
       "    <tr>\n",
       "      <th>2024-02</th>\n",
       "      <td>6</td>\n",
       "      <td>6</td>\n",
       "    </tr>\n",
       "    <tr>\n",
       "      <th>2024-06</th>\n",
       "      <td>2</td>\n",
       "      <td>2</td>\n",
       "    </tr>\n",
       "    <tr>\n",
       "      <th>2024-07</th>\n",
       "      <td>4</td>\n",
       "      <td>1</td>\n",
       "    </tr>\n",
       "    <tr>\n",
       "      <th>2024-08</th>\n",
       "      <td>16</td>\n",
       "      <td>9</td>\n",
       "    </tr>\n",
       "    <tr>\n",
       "      <th>2024-09</th>\n",
       "      <td>11</td>\n",
       "      <td>11</td>\n",
       "    </tr>\n",
       "    <tr>\n",
       "      <th>2024-11</th>\n",
       "      <td>10</td>\n",
       "      <td>10</td>\n",
       "    </tr>\n",
       "    <tr>\n",
       "      <th>2024-12</th>\n",
       "      <td>19</td>\n",
       "      <td>18</td>\n",
       "    </tr>\n",
       "  </tbody>\n",
       "</table>\n",
       "</div>"
      ],
      "text/plain": [
       "              loans  dr\n",
       "SURVEY_MONTH           \n",
       "2024-02           6   6\n",
       "2024-06           2   2\n",
       "2024-07           4   1\n",
       "2024-08          16   9\n",
       "2024-09          11  11\n",
       "2024-11          10  10\n",
       "2024-12          19  18"
      ]
     },
     "execution_count": 68,
     "metadata": {},
     "output_type": "execute_result"
    }
   ],
   "source": [
    "res2 = grouped[grouped['COUNT'] > 6]\n",
    "aggs2 = res2.groupby('SURVEY_MONTH').agg(\n",
    "    loans = ('DISBURSED', sum),\n",
    "    dr = ('DR1', sum)\n",
    ")\n",
    "aggs2"
   ]
  },
  {
   "cell_type": "code",
   "execution_count": 69,
   "metadata": {},
   "outputs": [
    {
     "data": {
      "text/plain": [
       "np.float64(9.714285714285714)"
      ]
     },
     "execution_count": 69,
     "metadata": {},
     "output_type": "execute_result"
    }
   ],
   "source": [
    "aggs2['loans'].mean()"
   ]
  },
  {
   "cell_type": "code",
   "execution_count": 70,
   "metadata": {},
   "outputs": [
    {
     "data": {
      "text/plain": [
       "np.float64(8.142857142857142)"
      ]
     },
     "execution_count": 70,
     "metadata": {},
     "output_type": "execute_result"
    }
   ],
   "source": [
    "aggs2['dr'].mean()"
   ]
  },
  {
   "cell_type": "code",
   "execution_count": null,
   "metadata": {},
   "outputs": [],
   "source": []
  }
 ],
 "metadata": {
  "kernelspec": {
   "display_name": ".venv",
   "language": "python",
   "name": "python3"
  },
  "language_info": {
   "codemirror_mode": {
    "name": "ipython",
    "version": 3
   },
   "file_extension": ".py",
   "mimetype": "text/x-python",
   "name": "python",
   "nbconvert_exporter": "python",
   "pygments_lexer": "ipython3",
   "version": "3.12.8"
  }
 },
 "nbformat": 4,
 "nbformat_minor": 2
}
